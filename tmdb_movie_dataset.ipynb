{
  "nbformat": 4,
  "nbformat_minor": 0,
  "metadata": {
    "kernelspec": {
      "display_name": "Python 3",
      "language": "python",
      "name": "python3"
    },
    "language_info": {
      "codemirror_mode": {
        "name": "ipython",
        "version": 3
      },
      "file_extension": ".py",
      "mimetype": "text/x-python",
      "name": "python",
      "nbconvert_exporter": "python",
      "pygments_lexer": "ipython3",
      "version": "3.6.3"
    },
    "colab": {
      "name": "tmdb_movie_dataset.ipynb",
      "provenance": [],
      "include_colab_link": true
    }
  },
  "cells": [
    {
      "cell_type": "markdown",
      "metadata": {
        "id": "view-in-github",
        "colab_type": "text"
      },
      "source": [
        "<a href=\"https://colab.research.google.com/github/jonathan-pap/Data-Analyst-Udacity/blob/main/tmdb_movie_dataset.ipynb\" target=\"_parent\"><img src=\"https://colab.research.google.com/assets/colab-badge.svg\" alt=\"Open In Colab\"/></a>"
      ]
    },
    {
      "cell_type": "markdown",
      "metadata": {
        "id": "frLLW96zjBbG"
      },
      "source": [
        "# Project: Investigation of TMDB movie dataset\n"
      ]
    },
    {
      "cell_type": "markdown",
      "metadata": {
        "id": "3J6VyefCjBbI"
      },
      "source": [
        "## Table of Contents\n",
        "<ul>\n",
        "<li><a href=\"#intro\">Introduction</a></li>\n",
        "<li><a href=\"#wrangling\">Data Wrangling</a></li>\n",
        "<li><a href=\"#eda\">Exploratory Data Analysis</a></li>\n",
        "<li><a href=\"#conclusions\">Conclusions</a></li>\n",
        "</ul>"
      ]
    },
    {
      "cell_type": "markdown",
      "metadata": {
        "id": "syD_i2gZjBbI"
      },
      "source": [
        "<a id='intro'></a>\n",
        "## Introduction\n",
        "\n",
        "The TMDb movie dataset contains information of around 10,000 movies, information is the dataset includes movie budget, revenue, Runtime, release date/year, ratings and also information of cast and directors.\n",
        "\n",
        "I will go through the follow steps:\n",
        "\n",
        "- Gather Data\n",
        "- Clean Data\n",
        "- Explore\n",
        "- Draw conclusions\n",
        "\n",
        "### Questions\n",
        "\n",
        "#### 1. Number of Movies released by year ?\n",
        "#### 2. What Average yearly budget & revenue ?\n",
        "#### 3. What Average yearly profits ?\n",
        "#### 4. What are the most profitable movies ?\n",
        "#### 5. Most Popular movies?\n",
        "#### 6. Is there correlation between budget & profit?\n",
        "#### 7. Average Runtimes by year?\n"
      ]
    },
    {
      "cell_type": "markdown",
      "metadata": {
        "id": "57A-UYNzjBbI"
      },
      "source": [
        "<a id='wrangling'></a>\n",
        "## Wrangling"
      ]
    },
    {
      "cell_type": "code",
      "metadata": {
        "id": "i7I6WPOdjBbJ"
      },
      "source": [
        "# Use this cell to set up import statements for all of the packages that you\n",
        "#   plan to use.\n",
        "import pandas as pd\n",
        "import numpy as np\n",
        "import matplotlib.pyplot as plt\n",
        "import seaborn as sns\n",
        "sns.set()\n",
        "\n",
        "\n",
        "% matplotlib inline\n",
        "\n",
        "#reading the dataset\n",
        "df = pd.read_csv('tmdb-movies.csv')"
      ],
      "execution_count": null,
      "outputs": []
    },
    {
      "cell_type": "code",
      "metadata": {
        "id": "gO_4dPyijBbJ",
        "outputId": "9cc340aa-fc6b-4a15-917a-1839d7e09b59"
      },
      "source": [
        "#disply the first few row to check the data structure\n",
        "df.head()"
      ],
      "execution_count": null,
      "outputs": [
        {
          "output_type": "execute_result",
          "data": {
            "text/html": [
              "<div>\n",
              "<style scoped>\n",
              "    .dataframe tbody tr th:only-of-type {\n",
              "        vertical-align: middle;\n",
              "    }\n",
              "\n",
              "    .dataframe tbody tr th {\n",
              "        vertical-align: top;\n",
              "    }\n",
              "\n",
              "    .dataframe thead th {\n",
              "        text-align: right;\n",
              "    }\n",
              "</style>\n",
              "<table border=\"1\" class=\"dataframe\">\n",
              "  <thead>\n",
              "    <tr style=\"text-align: right;\">\n",
              "      <th></th>\n",
              "      <th>id</th>\n",
              "      <th>imdb_id</th>\n",
              "      <th>popularity</th>\n",
              "      <th>budget</th>\n",
              "      <th>revenue</th>\n",
              "      <th>original_title</th>\n",
              "      <th>cast</th>\n",
              "      <th>homepage</th>\n",
              "      <th>director</th>\n",
              "      <th>tagline</th>\n",
              "      <th>...</th>\n",
              "      <th>overview</th>\n",
              "      <th>runtime</th>\n",
              "      <th>genres</th>\n",
              "      <th>production_companies</th>\n",
              "      <th>release_date</th>\n",
              "      <th>vote_count</th>\n",
              "      <th>vote_average</th>\n",
              "      <th>release_year</th>\n",
              "      <th>budget_adj</th>\n",
              "      <th>revenue_adj</th>\n",
              "    </tr>\n",
              "  </thead>\n",
              "  <tbody>\n",
              "    <tr>\n",
              "      <th>0</th>\n",
              "      <td>135397</td>\n",
              "      <td>tt0369610</td>\n",
              "      <td>32.985763</td>\n",
              "      <td>150000000</td>\n",
              "      <td>1513528810</td>\n",
              "      <td>Jurassic World</td>\n",
              "      <td>Chris Pratt|Bryce Dallas Howard|Irrfan Khan|Vi...</td>\n",
              "      <td>http://www.jurassicworld.com/</td>\n",
              "      <td>Colin Trevorrow</td>\n",
              "      <td>The park is open.</td>\n",
              "      <td>...</td>\n",
              "      <td>Twenty-two years after the events of Jurassic ...</td>\n",
              "      <td>124</td>\n",
              "      <td>Action|Adventure|Science Fiction|Thriller</td>\n",
              "      <td>Universal Studios|Amblin Entertainment|Legenda...</td>\n",
              "      <td>6/9/15</td>\n",
              "      <td>5562</td>\n",
              "      <td>6.5</td>\n",
              "      <td>2015</td>\n",
              "      <td>1.379999e+08</td>\n",
              "      <td>1.392446e+09</td>\n",
              "    </tr>\n",
              "    <tr>\n",
              "      <th>1</th>\n",
              "      <td>76341</td>\n",
              "      <td>tt1392190</td>\n",
              "      <td>28.419936</td>\n",
              "      <td>150000000</td>\n",
              "      <td>378436354</td>\n",
              "      <td>Mad Max: Fury Road</td>\n",
              "      <td>Tom Hardy|Charlize Theron|Hugh Keays-Byrne|Nic...</td>\n",
              "      <td>http://www.madmaxmovie.com/</td>\n",
              "      <td>George Miller</td>\n",
              "      <td>What a Lovely Day.</td>\n",
              "      <td>...</td>\n",
              "      <td>An apocalyptic story set in the furthest reach...</td>\n",
              "      <td>120</td>\n",
              "      <td>Action|Adventure|Science Fiction|Thriller</td>\n",
              "      <td>Village Roadshow Pictures|Kennedy Miller Produ...</td>\n",
              "      <td>5/13/15</td>\n",
              "      <td>6185</td>\n",
              "      <td>7.1</td>\n",
              "      <td>2015</td>\n",
              "      <td>1.379999e+08</td>\n",
              "      <td>3.481613e+08</td>\n",
              "    </tr>\n",
              "    <tr>\n",
              "      <th>2</th>\n",
              "      <td>262500</td>\n",
              "      <td>tt2908446</td>\n",
              "      <td>13.112507</td>\n",
              "      <td>110000000</td>\n",
              "      <td>295238201</td>\n",
              "      <td>Insurgent</td>\n",
              "      <td>Shailene Woodley|Theo James|Kate Winslet|Ansel...</td>\n",
              "      <td>http://www.thedivergentseries.movie/#insurgent</td>\n",
              "      <td>Robert Schwentke</td>\n",
              "      <td>One Choice Can Destroy You</td>\n",
              "      <td>...</td>\n",
              "      <td>Beatrice Prior must confront her inner demons ...</td>\n",
              "      <td>119</td>\n",
              "      <td>Adventure|Science Fiction|Thriller</td>\n",
              "      <td>Summit Entertainment|Mandeville Films|Red Wago...</td>\n",
              "      <td>3/18/15</td>\n",
              "      <td>2480</td>\n",
              "      <td>6.3</td>\n",
              "      <td>2015</td>\n",
              "      <td>1.012000e+08</td>\n",
              "      <td>2.716190e+08</td>\n",
              "    </tr>\n",
              "    <tr>\n",
              "      <th>3</th>\n",
              "      <td>140607</td>\n",
              "      <td>tt2488496</td>\n",
              "      <td>11.173104</td>\n",
              "      <td>200000000</td>\n",
              "      <td>2068178225</td>\n",
              "      <td>Star Wars: The Force Awakens</td>\n",
              "      <td>Harrison Ford|Mark Hamill|Carrie Fisher|Adam D...</td>\n",
              "      <td>http://www.starwars.com/films/star-wars-episod...</td>\n",
              "      <td>J.J. Abrams</td>\n",
              "      <td>Every generation has a story.</td>\n",
              "      <td>...</td>\n",
              "      <td>Thirty years after defeating the Galactic Empi...</td>\n",
              "      <td>136</td>\n",
              "      <td>Action|Adventure|Science Fiction|Fantasy</td>\n",
              "      <td>Lucasfilm|Truenorth Productions|Bad Robot</td>\n",
              "      <td>12/15/15</td>\n",
              "      <td>5292</td>\n",
              "      <td>7.5</td>\n",
              "      <td>2015</td>\n",
              "      <td>1.839999e+08</td>\n",
              "      <td>1.902723e+09</td>\n",
              "    </tr>\n",
              "    <tr>\n",
              "      <th>4</th>\n",
              "      <td>168259</td>\n",
              "      <td>tt2820852</td>\n",
              "      <td>9.335014</td>\n",
              "      <td>190000000</td>\n",
              "      <td>1506249360</td>\n",
              "      <td>Furious 7</td>\n",
              "      <td>Vin Diesel|Paul Walker|Jason Statham|Michelle ...</td>\n",
              "      <td>http://www.furious7.com/</td>\n",
              "      <td>James Wan</td>\n",
              "      <td>Vengeance Hits Home</td>\n",
              "      <td>...</td>\n",
              "      <td>Deckard Shaw seeks revenge against Dominic Tor...</td>\n",
              "      <td>137</td>\n",
              "      <td>Action|Crime|Thriller</td>\n",
              "      <td>Universal Pictures|Original Film|Media Rights ...</td>\n",
              "      <td>4/1/15</td>\n",
              "      <td>2947</td>\n",
              "      <td>7.3</td>\n",
              "      <td>2015</td>\n",
              "      <td>1.747999e+08</td>\n",
              "      <td>1.385749e+09</td>\n",
              "    </tr>\n",
              "  </tbody>\n",
              "</table>\n",
              "<p>5 rows × 21 columns</p>\n",
              "</div>"
            ],
            "text/plain": [
              "       id    imdb_id  popularity     budget     revenue  \\\n",
              "0  135397  tt0369610   32.985763  150000000  1513528810   \n",
              "1   76341  tt1392190   28.419936  150000000   378436354   \n",
              "2  262500  tt2908446   13.112507  110000000   295238201   \n",
              "3  140607  tt2488496   11.173104  200000000  2068178225   \n",
              "4  168259  tt2820852    9.335014  190000000  1506249360   \n",
              "\n",
              "                 original_title  \\\n",
              "0                Jurassic World   \n",
              "1            Mad Max: Fury Road   \n",
              "2                     Insurgent   \n",
              "3  Star Wars: The Force Awakens   \n",
              "4                     Furious 7   \n",
              "\n",
              "                                                cast  \\\n",
              "0  Chris Pratt|Bryce Dallas Howard|Irrfan Khan|Vi...   \n",
              "1  Tom Hardy|Charlize Theron|Hugh Keays-Byrne|Nic...   \n",
              "2  Shailene Woodley|Theo James|Kate Winslet|Ansel...   \n",
              "3  Harrison Ford|Mark Hamill|Carrie Fisher|Adam D...   \n",
              "4  Vin Diesel|Paul Walker|Jason Statham|Michelle ...   \n",
              "\n",
              "                                            homepage          director  \\\n",
              "0                      http://www.jurassicworld.com/   Colin Trevorrow   \n",
              "1                        http://www.madmaxmovie.com/     George Miller   \n",
              "2     http://www.thedivergentseries.movie/#insurgent  Robert Schwentke   \n",
              "3  http://www.starwars.com/films/star-wars-episod...       J.J. Abrams   \n",
              "4                           http://www.furious7.com/         James Wan   \n",
              "\n",
              "                         tagline      ...       \\\n",
              "0              The park is open.      ...        \n",
              "1             What a Lovely Day.      ...        \n",
              "2     One Choice Can Destroy You      ...        \n",
              "3  Every generation has a story.      ...        \n",
              "4            Vengeance Hits Home      ...        \n",
              "\n",
              "                                            overview runtime  \\\n",
              "0  Twenty-two years after the events of Jurassic ...     124   \n",
              "1  An apocalyptic story set in the furthest reach...     120   \n",
              "2  Beatrice Prior must confront her inner demons ...     119   \n",
              "3  Thirty years after defeating the Galactic Empi...     136   \n",
              "4  Deckard Shaw seeks revenge against Dominic Tor...     137   \n",
              "\n",
              "                                      genres  \\\n",
              "0  Action|Adventure|Science Fiction|Thriller   \n",
              "1  Action|Adventure|Science Fiction|Thriller   \n",
              "2         Adventure|Science Fiction|Thriller   \n",
              "3   Action|Adventure|Science Fiction|Fantasy   \n",
              "4                      Action|Crime|Thriller   \n",
              "\n",
              "                                production_companies release_date vote_count  \\\n",
              "0  Universal Studios|Amblin Entertainment|Legenda...       6/9/15       5562   \n",
              "1  Village Roadshow Pictures|Kennedy Miller Produ...      5/13/15       6185   \n",
              "2  Summit Entertainment|Mandeville Films|Red Wago...      3/18/15       2480   \n",
              "3          Lucasfilm|Truenorth Productions|Bad Robot     12/15/15       5292   \n",
              "4  Universal Pictures|Original Film|Media Rights ...       4/1/15       2947   \n",
              "\n",
              "   vote_average  release_year    budget_adj   revenue_adj  \n",
              "0           6.5          2015  1.379999e+08  1.392446e+09  \n",
              "1           7.1          2015  1.379999e+08  3.481613e+08  \n",
              "2           6.3          2015  1.012000e+08  2.716190e+08  \n",
              "3           7.5          2015  1.839999e+08  1.902723e+09  \n",
              "4           7.3          2015  1.747999e+08  1.385749e+09  \n",
              "\n",
              "[5 rows x 21 columns]"
            ]
          },
          "metadata": {
            "tags": []
          },
          "execution_count": 222
        }
      ]
    },
    {
      "cell_type": "code",
      "metadata": {
        "id": "Bc0jX7LAjBbK",
        "outputId": "f8bf2389-89c7-4747-e2c1-577beafdc9bc"
      },
      "source": [
        "# check the total number of rows and columns\n",
        "df.shape"
      ],
      "execution_count": null,
      "outputs": [
        {
          "output_type": "execute_result",
          "data": {
            "text/plain": [
              "(10866, 21)"
            ]
          },
          "metadata": {
            "tags": []
          },
          "execution_count": 223
        }
      ]
    },
    {
      "cell_type": "markdown",
      "metadata": {
        "id": "iJgMpMUXjBbK"
      },
      "source": [
        "By viewing the first few we can see now what the information is held withe the dataset, lets look at the basic information and check what we should be cleaning to answers the proposed questions. One column is missing and is profit / loss we can create this later.\n",
        "\n",
        "We can first look at the data types and missing values (null)"
      ]
    },
    {
      "cell_type": "code",
      "metadata": {
        "id": "y5JYIc20jBbK",
        "outputId": "efb862bf-09bb-4f1b-bba8-5aa153499857"
      },
      "source": [
        "# datatypes and null values\n",
        "df.info()"
      ],
      "execution_count": null,
      "outputs": [
        {
          "output_type": "stream",
          "text": [
            "<class 'pandas.core.frame.DataFrame'>\n",
            "RangeIndex: 10866 entries, 0 to 10865\n",
            "Data columns (total 21 columns):\n",
            "id                      10866 non-null int64\n",
            "imdb_id                 10856 non-null object\n",
            "popularity              10866 non-null float64\n",
            "budget                  10866 non-null int64\n",
            "revenue                 10866 non-null int64\n",
            "original_title          10866 non-null object\n",
            "cast                    10790 non-null object\n",
            "homepage                2936 non-null object\n",
            "director                10822 non-null object\n",
            "tagline                 8042 non-null object\n",
            "keywords                9373 non-null object\n",
            "overview                10862 non-null object\n",
            "runtime                 10866 non-null int64\n",
            "genres                  10843 non-null object\n",
            "production_companies    9836 non-null object\n",
            "release_date            10866 non-null object\n",
            "vote_count              10866 non-null int64\n",
            "vote_average            10866 non-null float64\n",
            "release_year            10866 non-null int64\n",
            "budget_adj              10866 non-null float64\n",
            "revenue_adj             10866 non-null float64\n",
            "dtypes: float64(4), int64(6), object(11)\n",
            "memory usage: 1.7+ MB\n"
          ],
          "name": "stdout"
        }
      ]
    },
    {
      "cell_type": "markdown",
      "metadata": {
        "id": "H5kVJzvojBbK"
      },
      "source": [
        "Looking at the summary of missing values, I will choose not do change or correct the missing data from the below columns, and choose to drop these as they have no relavance for the data analyis, \n",
        "\n",
        "* imbdb_id, \n",
        "* homepage,\n",
        "* tagline,\n",
        "* keywords,\n",
        "* overview,\n",
        "\n",
        "\n",
        "I will also drop *budget_adj, revenue_adj* as these will have have no relevence in the analysis.\n",
        "Also there is no profit column we can create this, from the budget and revenue. This will be used to in our analysis later.\n",
        "\n",
        "The Release_appears to be a string value, we can check this and change later.\n",
        "\n",
        "Another value that could hinder the conclusion process is checking for any '0' values we can view the statistics of each column."
      ]
    },
    {
      "cell_type": "code",
      "metadata": {
        "id": "xaYJ-E-hjBbL",
        "outputId": "d04d89b6-e65e-4b2c-dc7d-d61113163d66"
      },
      "source": [
        "#check data type of release_date\n",
        "type(df['release_date'][0])"
      ],
      "execution_count": null,
      "outputs": [
        {
          "output_type": "execute_result",
          "data": {
            "text/plain": [
              "str"
            ]
          },
          "metadata": {
            "tags": []
          },
          "execution_count": 225
        }
      ]
    },
    {
      "cell_type": "code",
      "metadata": {
        "id": "CIaOJZymjBbL",
        "outputId": "e6f88da7-9682-400e-924e-b7cc1ca68081"
      },
      "source": [
        "# show statistics if the dataset\n",
        "df.describe()"
      ],
      "execution_count": null,
      "outputs": [
        {
          "output_type": "execute_result",
          "data": {
            "text/html": [
              "<div>\n",
              "<style scoped>\n",
              "    .dataframe tbody tr th:only-of-type {\n",
              "        vertical-align: middle;\n",
              "    }\n",
              "\n",
              "    .dataframe tbody tr th {\n",
              "        vertical-align: top;\n",
              "    }\n",
              "\n",
              "    .dataframe thead th {\n",
              "        text-align: right;\n",
              "    }\n",
              "</style>\n",
              "<table border=\"1\" class=\"dataframe\">\n",
              "  <thead>\n",
              "    <tr style=\"text-align: right;\">\n",
              "      <th></th>\n",
              "      <th>id</th>\n",
              "      <th>popularity</th>\n",
              "      <th>budget</th>\n",
              "      <th>revenue</th>\n",
              "      <th>runtime</th>\n",
              "      <th>vote_count</th>\n",
              "      <th>vote_average</th>\n",
              "      <th>release_year</th>\n",
              "      <th>budget_adj</th>\n",
              "      <th>revenue_adj</th>\n",
              "    </tr>\n",
              "  </thead>\n",
              "  <tbody>\n",
              "    <tr>\n",
              "      <th>count</th>\n",
              "      <td>10866.000000</td>\n",
              "      <td>10866.000000</td>\n",
              "      <td>1.086600e+04</td>\n",
              "      <td>1.086600e+04</td>\n",
              "      <td>10866.000000</td>\n",
              "      <td>10866.000000</td>\n",
              "      <td>10866.000000</td>\n",
              "      <td>10866.000000</td>\n",
              "      <td>1.086600e+04</td>\n",
              "      <td>1.086600e+04</td>\n",
              "    </tr>\n",
              "    <tr>\n",
              "      <th>mean</th>\n",
              "      <td>66064.177434</td>\n",
              "      <td>0.646441</td>\n",
              "      <td>1.462570e+07</td>\n",
              "      <td>3.982332e+07</td>\n",
              "      <td>102.070863</td>\n",
              "      <td>217.389748</td>\n",
              "      <td>5.974922</td>\n",
              "      <td>2001.322658</td>\n",
              "      <td>1.755104e+07</td>\n",
              "      <td>5.136436e+07</td>\n",
              "    </tr>\n",
              "    <tr>\n",
              "      <th>std</th>\n",
              "      <td>92130.136561</td>\n",
              "      <td>1.000185</td>\n",
              "      <td>3.091321e+07</td>\n",
              "      <td>1.170035e+08</td>\n",
              "      <td>31.381405</td>\n",
              "      <td>575.619058</td>\n",
              "      <td>0.935142</td>\n",
              "      <td>12.812941</td>\n",
              "      <td>3.430616e+07</td>\n",
              "      <td>1.446325e+08</td>\n",
              "    </tr>\n",
              "    <tr>\n",
              "      <th>min</th>\n",
              "      <td>5.000000</td>\n",
              "      <td>0.000065</td>\n",
              "      <td>0.000000e+00</td>\n",
              "      <td>0.000000e+00</td>\n",
              "      <td>0.000000</td>\n",
              "      <td>10.000000</td>\n",
              "      <td>1.500000</td>\n",
              "      <td>1960.000000</td>\n",
              "      <td>0.000000e+00</td>\n",
              "      <td>0.000000e+00</td>\n",
              "    </tr>\n",
              "    <tr>\n",
              "      <th>25%</th>\n",
              "      <td>10596.250000</td>\n",
              "      <td>0.207583</td>\n",
              "      <td>0.000000e+00</td>\n",
              "      <td>0.000000e+00</td>\n",
              "      <td>90.000000</td>\n",
              "      <td>17.000000</td>\n",
              "      <td>5.400000</td>\n",
              "      <td>1995.000000</td>\n",
              "      <td>0.000000e+00</td>\n",
              "      <td>0.000000e+00</td>\n",
              "    </tr>\n",
              "    <tr>\n",
              "      <th>50%</th>\n",
              "      <td>20669.000000</td>\n",
              "      <td>0.383856</td>\n",
              "      <td>0.000000e+00</td>\n",
              "      <td>0.000000e+00</td>\n",
              "      <td>99.000000</td>\n",
              "      <td>38.000000</td>\n",
              "      <td>6.000000</td>\n",
              "      <td>2006.000000</td>\n",
              "      <td>0.000000e+00</td>\n",
              "      <td>0.000000e+00</td>\n",
              "    </tr>\n",
              "    <tr>\n",
              "      <th>75%</th>\n",
              "      <td>75610.000000</td>\n",
              "      <td>0.713817</td>\n",
              "      <td>1.500000e+07</td>\n",
              "      <td>2.400000e+07</td>\n",
              "      <td>111.000000</td>\n",
              "      <td>145.750000</td>\n",
              "      <td>6.600000</td>\n",
              "      <td>2011.000000</td>\n",
              "      <td>2.085325e+07</td>\n",
              "      <td>3.369710e+07</td>\n",
              "    </tr>\n",
              "    <tr>\n",
              "      <th>max</th>\n",
              "      <td>417859.000000</td>\n",
              "      <td>32.985763</td>\n",
              "      <td>4.250000e+08</td>\n",
              "      <td>2.781506e+09</td>\n",
              "      <td>900.000000</td>\n",
              "      <td>9767.000000</td>\n",
              "      <td>9.200000</td>\n",
              "      <td>2015.000000</td>\n",
              "      <td>4.250000e+08</td>\n",
              "      <td>2.827124e+09</td>\n",
              "    </tr>\n",
              "  </tbody>\n",
              "</table>\n",
              "</div>"
            ],
            "text/plain": [
              "                  id    popularity        budget       revenue       runtime  \\\n",
              "count   10866.000000  10866.000000  1.086600e+04  1.086600e+04  10866.000000   \n",
              "mean    66064.177434      0.646441  1.462570e+07  3.982332e+07    102.070863   \n",
              "std     92130.136561      1.000185  3.091321e+07  1.170035e+08     31.381405   \n",
              "min         5.000000      0.000065  0.000000e+00  0.000000e+00      0.000000   \n",
              "25%     10596.250000      0.207583  0.000000e+00  0.000000e+00     90.000000   \n",
              "50%     20669.000000      0.383856  0.000000e+00  0.000000e+00     99.000000   \n",
              "75%     75610.000000      0.713817  1.500000e+07  2.400000e+07    111.000000   \n",
              "max    417859.000000     32.985763  4.250000e+08  2.781506e+09    900.000000   \n",
              "\n",
              "         vote_count  vote_average  release_year    budget_adj   revenue_adj  \n",
              "count  10866.000000  10866.000000  10866.000000  1.086600e+04  1.086600e+04  \n",
              "mean     217.389748      5.974922   2001.322658  1.755104e+07  5.136436e+07  \n",
              "std      575.619058      0.935142     12.812941  3.430616e+07  1.446325e+08  \n",
              "min       10.000000      1.500000   1960.000000  0.000000e+00  0.000000e+00  \n",
              "25%       17.000000      5.400000   1995.000000  0.000000e+00  0.000000e+00  \n",
              "50%       38.000000      6.000000   2006.000000  0.000000e+00  0.000000e+00  \n",
              "75%      145.750000      6.600000   2011.000000  2.085325e+07  3.369710e+07  \n",
              "max     9767.000000      9.200000   2015.000000  4.250000e+08  2.827124e+09  "
            ]
          },
          "metadata": {
            "tags": []
          },
          "execution_count": 226
        }
      ]
    },
    {
      "cell_type": "markdown",
      "metadata": {
        "id": "7Z0iajegjBbL"
      },
      "source": [
        "In the main columns for example, budget and revenue that we need for the data analysis there are \"0\" values, we can also visualise this also to check other columns."
      ]
    },
    {
      "cell_type": "code",
      "metadata": {
        "id": "std-4cVwjBbL",
        "outputId": "0a4ed5d3-ef7f-4406-8353-e5275697ef16"
      },
      "source": [
        "df.hist(figsize = (25,25));"
      ],
      "execution_count": null,
      "outputs": [
        {
          "output_type": "display_data",
          "data": {
            "image/png": "[encoded data removed]",
            "text/plain": [
              "<matplotlib.figure.Figure at 0x7fe3551ce240>"
            ]
          },
          "metadata": {
            "tags": [],
            "needs_background": "light"
          }
        }
      ]
    },
    {
      "cell_type": "markdown",
      "metadata": {
        "id": "LgQlq4PZjBbL"
      },
      "source": [
        "Lets count the number of zero values per column, reference source:\n",
        "- https://stackoverflow.com/questions/29229600/counting-number-of-zeros-per-row-by-pandas-dataframe"
      ]
    },
    {
      "cell_type": "code",
      "metadata": {
        "id": "CovoutwOjBbM",
        "outputId": "225eb42b-a855-4674-e6c1-8116789cfa0a"
      },
      "source": [
        "#checks and sums the \"0\"\n",
        "df.isin([0]).sum()"
      ],
      "execution_count": null,
      "outputs": [
        {
          "output_type": "execute_result",
          "data": {
            "text/plain": [
              "id                         0\n",
              "imdb_id                    0\n",
              "popularity                 0\n",
              "budget                  5696\n",
              "revenue                 6016\n",
              "original_title             0\n",
              "cast                       0\n",
              "homepage                   0\n",
              "director                   0\n",
              "tagline                    0\n",
              "keywords                   0\n",
              "overview                   0\n",
              "runtime                   31\n",
              "genres                     0\n",
              "production_companies       0\n",
              "release_date               0\n",
              "vote_count                 0\n",
              "vote_average               0\n",
              "release_year               0\n",
              "budget_adj              5696\n",
              "revenue_adj             6016\n",
              "dtype: int64"
            ]
          },
          "metadata": {
            "tags": []
          },
          "execution_count": 228
        }
      ]
    },
    {
      "cell_type": "markdown",
      "metadata": {
        "id": "2LMOsXhOjBbM"
      },
      "source": [
        "on the upper bound there are 6016 rows in the revenue column, deleting these rows could take away alot of useful information, we will make these a values Null values. \n",
        "\n",
        "are the runtimes with zero connected to any needed data? we can check this."
      ]
    },
    {
      "cell_type": "code",
      "metadata": {
        "id": "U1En2QLZjBbM",
        "outputId": "8c97b4c1-4d3d-42ab-b3b7-d21d8ec17813"
      },
      "source": [
        "#queary runtime on 0 values.\n",
        "zero_check = df.query('runtime == 0')\n",
        "zero_check"
      ],
      "execution_count": null,
      "outputs": [
        {
          "output_type": "execute_result",
          "data": {
            "text/html": [
              "<div>\n",
              "<style scoped>\n",
              "    .dataframe tbody tr th:only-of-type {\n",
              "        vertical-align: middle;\n",
              "    }\n",
              "\n",
              "    .dataframe tbody tr th {\n",
              "        vertical-align: top;\n",
              "    }\n",
              "\n",
              "    .dataframe thead th {\n",
              "        text-align: right;\n",
              "    }\n",
              "</style>\n",
              "<table border=\"1\" class=\"dataframe\">\n",
              "  <thead>\n",
              "    <tr style=\"text-align: right;\">\n",
              "      <th></th>\n",
              "      <th>id</th>\n",
              "      <th>imdb_id</th>\n",
              "      <th>popularity</th>\n",
              "      <th>budget</th>\n",
              "      <th>revenue</th>\n",
              "      <th>original_title</th>\n",
              "      <th>cast</th>\n",
              "      <th>homepage</th>\n",
              "      <th>director</th>\n",
              "      <th>tagline</th>\n",
              "      <th>...</th>\n",
              "      <th>overview</th>\n",
              "      <th>runtime</th>\n",
              "      <th>genres</th>\n",
              "      <th>production_companies</th>\n",
              "      <th>release_date</th>\n",
              "      <th>vote_count</th>\n",
              "      <th>vote_average</th>\n",
              "      <th>release_year</th>\n",
              "      <th>budget_adj</th>\n",
              "      <th>revenue_adj</th>\n",
              "    </tr>\n",
              "  </thead>\n",
              "  <tbody>\n",
              "    <tr>\n",
              "      <th>92</th>\n",
              "      <td>370687</td>\n",
              "      <td>tt3608646</td>\n",
              "      <td>1.876037</td>\n",
              "      <td>0</td>\n",
              "      <td>0</td>\n",
              "      <td>Mythica: The Necromancer</td>\n",
              "      <td>Melanie Stone|Adam Johnson|Kevin Sorbo|Nicola ...</td>\n",
              "      <td>http://www.mythicamovie.com/#!blank/y9ake</td>\n",
              "      <td>A. Todd Smith</td>\n",
              "      <td>NaN</td>\n",
              "      <td>...</td>\n",
              "      <td>Mallister takes Thane prisoner and forces Mare...</td>\n",
              "      <td>0</td>\n",
              "      <td>Fantasy|Action|Adventure</td>\n",
              "      <td>Arrowstorm Entertainment|Camera 40 Productions...</td>\n",
              "      <td>12/19/15</td>\n",
              "      <td>11</td>\n",
              "      <td>5.4</td>\n",
              "      <td>2015</td>\n",
              "      <td>0.000000e+00</td>\n",
              "      <td>0.0</td>\n",
              "    </tr>\n",
              "    <tr>\n",
              "      <th>334</th>\n",
              "      <td>361931</td>\n",
              "      <td>tt5065822</td>\n",
              "      <td>0.357654</td>\n",
              "      <td>0</td>\n",
              "      <td>0</td>\n",
              "      <td>Ronaldo</td>\n",
              "      <td>Cristiano Ronaldo</td>\n",
              "      <td>http://www.ronaldothefilm.com</td>\n",
              "      <td>Anthony Wonke</td>\n",
              "      <td>Astonishing. Intimate. Definitive.</td>\n",
              "      <td>...</td>\n",
              "      <td>Filmed over 14 months with unprecedented acces...</td>\n",
              "      <td>0</td>\n",
              "      <td>Documentary</td>\n",
              "      <td>On The Corner Films|We Came, We Saw, We Conque...</td>\n",
              "      <td>11/9/15</td>\n",
              "      <td>80</td>\n",
              "      <td>6.5</td>\n",
              "      <td>2015</td>\n",
              "      <td>0.000000e+00</td>\n",
              "      <td>0.0</td>\n",
              "    </tr>\n",
              "    <tr>\n",
              "      <th>410</th>\n",
              "      <td>339342</td>\n",
              "      <td>tt2948712</td>\n",
              "      <td>0.097514</td>\n",
              "      <td>0</td>\n",
              "      <td>0</td>\n",
              "      <td>Anarchy Parlor</td>\n",
              "      <td>Robert LaSardo|Jordan James Smith|Sara Fabel|T...</td>\n",
              "      <td>NaN</td>\n",
              "      <td>Kenny Gage|Devon Downs</td>\n",
              "      <td>NaN</td>\n",
              "      <td>...</td>\n",
              "      <td>Six young college hopefuls vacationing and par...</td>\n",
              "      <td>0</td>\n",
              "      <td>Horror</td>\n",
              "      <td>NaN</td>\n",
              "      <td>1/1/15</td>\n",
              "      <td>15</td>\n",
              "      <td>5.6</td>\n",
              "      <td>2015</td>\n",
              "      <td>0.000000e+00</td>\n",
              "      <td>0.0</td>\n",
              "    </tr>\n",
              "    <tr>\n",
              "      <th>445</th>\n",
              "      <td>353345</td>\n",
              "      <td>tt3800796</td>\n",
              "      <td>0.218528</td>\n",
              "      <td>0</td>\n",
              "      <td>0</td>\n",
              "      <td>The Exorcism of Molly Hartley</td>\n",
              "      <td>Sarah Lind|Devon Sawa|Gina Holden|Peter MacNei...</td>\n",
              "      <td>NaN</td>\n",
              "      <td>Steven R. Monroe</td>\n",
              "      <td>NaN</td>\n",
              "      <td>...</td>\n",
              "      <td>Taking place years after The Haunting of Molly...</td>\n",
              "      <td>0</td>\n",
              "      <td>Horror</td>\n",
              "      <td>WT Canada Productions</td>\n",
              "      <td>10/9/15</td>\n",
              "      <td>52</td>\n",
              "      <td>5.0</td>\n",
              "      <td>2015</td>\n",
              "      <td>0.000000e+00</td>\n",
              "      <td>0.0</td>\n",
              "    </tr>\n",
              "    <tr>\n",
              "      <th>486</th>\n",
              "      <td>333653</td>\n",
              "      <td>tt4058368</td>\n",
              "      <td>0.176744</td>\n",
              "      <td>0</td>\n",
              "      <td>0</td>\n",
              "      <td>If There Be Thorns</td>\n",
              "      <td>Heather Graham|Jason Lewis|Rachael Carpani|Mas...</td>\n",
              "      <td>NaN</td>\n",
              "      <td>Nancy Savoca</td>\n",
              "      <td>NaN</td>\n",
              "      <td>...</td>\n",
              "      <td>The third installment in V.C. Andrewsâ€™ bests...</td>\n",
              "      <td>0</td>\n",
              "      <td>TV Movie|Drama</td>\n",
              "      <td>A+E Studios|Jane Startz Productions</td>\n",
              "      <td>4/5/15</td>\n",
              "      <td>11</td>\n",
              "      <td>5.4</td>\n",
              "      <td>2015</td>\n",
              "      <td>0.000000e+00</td>\n",
              "      <td>0.0</td>\n",
              "    </tr>\n",
              "    <tr>\n",
              "      <th>595</th>\n",
              "      <td>341051</td>\n",
              "      <td>tt2914740</td>\n",
              "      <td>0.028725</td>\n",
              "      <td>0</td>\n",
              "      <td>0</td>\n",
              "      <td>Deep Dark</td>\n",
              "      <td>Sean McGrath|Denise Poirier|Anne Sorce|Tabor H...</td>\n",
              "      <td>http://deepdarkmovie.com</td>\n",
              "      <td>Michael Medaglia</td>\n",
              "      <td>NaN</td>\n",
              "      <td>...</td>\n",
              "      <td>Fantasy - A failed sculptor discovers a strang...</td>\n",
              "      <td>0</td>\n",
              "      <td>Horror</td>\n",
              "      <td>NaN</td>\n",
              "      <td>1/1/15</td>\n",
              "      <td>11</td>\n",
              "      <td>4.6</td>\n",
              "      <td>2015</td>\n",
              "      <td>0.000000e+00</td>\n",
              "      <td>0.0</td>\n",
              "    </tr>\n",
              "    <tr>\n",
              "      <th>616</th>\n",
              "      <td>325843</td>\n",
              "      <td>tt4333210</td>\n",
              "      <td>0.026797</td>\n",
              "      <td>0</td>\n",
              "      <td>0</td>\n",
              "      <td>The Outfield</td>\n",
              "      <td>Cameron Dallas|Hamilton Nash Grier|Olivia Stuc...</td>\n",
              "      <td>NaN</td>\n",
              "      <td>Michael Goldfine</td>\n",
              "      <td>NaN</td>\n",
              "      <td>...</td>\n",
              "      <td>The film follows a trio of varsity baseball pl...</td>\n",
              "      <td>0</td>\n",
              "      <td>Drama|Comedy</td>\n",
              "      <td>NaN</td>\n",
              "      <td>11/10/15</td>\n",
              "      <td>20</td>\n",
              "      <td>6.6</td>\n",
              "      <td>2015</td>\n",
              "      <td>0.000000e+00</td>\n",
              "      <td>0.0</td>\n",
              "    </tr>\n",
              "    <tr>\n",
              "      <th>1241</th>\n",
              "      <td>296370</td>\n",
              "      <td>tt3024964</td>\n",
              "      <td>0.135376</td>\n",
              "      <td>0</td>\n",
              "      <td>0</td>\n",
              "      <td>Dance-Off</td>\n",
              "      <td>Kathryn McCormick|Shane Harper|Finola Hughes|C...</td>\n",
              "      <td>NaN</td>\n",
              "      <td>NaN</td>\n",
              "      <td>NaN</td>\n",
              "      <td>...</td>\n",
              "      <td>DANCE-OFF is a tongue-in-cheek family comedy s...</td>\n",
              "      <td>0</td>\n",
              "      <td>Romance|Music|Comedy</td>\n",
              "      <td>NaN</td>\n",
              "      <td>1/1/14</td>\n",
              "      <td>18</td>\n",
              "      <td>5.7</td>\n",
              "      <td>2014</td>\n",
              "      <td>0.000000e+00</td>\n",
              "      <td>0.0</td>\n",
              "    </tr>\n",
              "    <tr>\n",
              "      <th>1289</th>\n",
              "      <td>286372</td>\n",
              "      <td>tt1791681</td>\n",
              "      <td>0.037459</td>\n",
              "      <td>3250000</td>\n",
              "      <td>0</td>\n",
              "      <td>Treehouse</td>\n",
              "      <td>J. Michael Trautmann|Dana Melanie|Daniel Fredr...</td>\n",
              "      <td>http://www.imdb.com/title/tt1791681/</td>\n",
              "      <td>Michael G. Bartlett</td>\n",
              "      <td>No kids allowed</td>\n",
              "      <td>...</td>\n",
              "      <td>A teenage boy discovers the perpetrators of se...</td>\n",
              "      <td>0</td>\n",
              "      <td>Thriller|Horror|Mystery</td>\n",
              "      <td>Tiberius Film</td>\n",
              "      <td>10/20/14</td>\n",
              "      <td>16</td>\n",
              "      <td>3.4</td>\n",
              "      <td>2014</td>\n",
              "      <td>2.993546e+06</td>\n",
              "      <td>0.0</td>\n",
              "    </tr>\n",
              "    <tr>\n",
              "      <th>1293</th>\n",
              "      <td>286256</td>\n",
              "      <td>tt3134058</td>\n",
              "      <td>0.036904</td>\n",
              "      <td>0</td>\n",
              "      <td>0</td>\n",
              "      <td>Tim Maia</td>\n",
              "      <td>Robson Nunes|BabÃº Santana|Alinne Moraes|CauÃ£...</td>\n",
              "      <td>NaN</td>\n",
              "      <td>Mauro Lima</td>\n",
              "      <td>Original language PORTUGUESE</td>\n",
              "      <td>...</td>\n",
              "      <td>Biopic of Brazilian singer Tim Maia, from his ...</td>\n",
              "      <td>0</td>\n",
              "      <td>Documentary|Drama|Music</td>\n",
              "      <td>Globo Filmes</td>\n",
              "      <td>10/30/14</td>\n",
              "      <td>14</td>\n",
              "      <td>6.0</td>\n",
              "      <td>2014</td>\n",
              "      <td>0.000000e+00</td>\n",
              "      <td>0.0</td>\n",
              "    </tr>\n",
              "    <tr>\n",
              "      <th>1849</th>\n",
              "      <td>18247</td>\n",
              "      <td>tt1212986</td>\n",
              "      <td>0.120350</td>\n",
              "      <td>0</td>\n",
              "      <td>0</td>\n",
              "      <td>Spectacular!</td>\n",
              "      <td>Nolan Gerard Funk|Jesse Moss|Britt Irvin|Tammi...</td>\n",
              "      <td>NaN</td>\n",
              "      <td>Robert Iscove</td>\n",
              "      <td>NaN</td>\n",
              "      <td>...</td>\n",
              "      <td>A high school choir is fading in popularity, a...</td>\n",
              "      <td>0</td>\n",
              "      <td>Drama|Music</td>\n",
              "      <td>NaN</td>\n",
              "      <td>2/16/09</td>\n",
              "      <td>13</td>\n",
              "      <td>5.2</td>\n",
              "      <td>2009</td>\n",
              "      <td>0.000000e+00</td>\n",
              "      <td>0.0</td>\n",
              "    </tr>\n",
              "    <tr>\n",
              "      <th>2315</th>\n",
              "      <td>48373</td>\n",
              "      <td>tt1274296</td>\n",
              "      <td>0.171615</td>\n",
              "      <td>0</td>\n",
              "      <td>0</td>\n",
              "      <td>Listen to Your Heart</td>\n",
              "      <td>Alexia Rasmussen|Kent Moran|Cybill Shepherd|Sh...</td>\n",
              "      <td>http://www.listentoyourheartfilm.com/</td>\n",
              "      <td>NaN</td>\n",
              "      <td>One song can change your life.</td>\n",
              "      <td>...</td>\n",
              "      <td>Danny Foster doesn't have much: an apartment a...</td>\n",
              "      <td>0</td>\n",
              "      <td>Drama|Music|Romance</td>\n",
              "      <td>NaN</td>\n",
              "      <td>8/14/10</td>\n",
              "      <td>29</td>\n",
              "      <td>7.3</td>\n",
              "      <td>2010</td>\n",
              "      <td>0.000000e+00</td>\n",
              "      <td>0.0</td>\n",
              "    </tr>\n",
              "    <tr>\n",
              "      <th>2370</th>\n",
              "      <td>127717</td>\n",
              "      <td>tt1525359</td>\n",
              "      <td>0.081892</td>\n",
              "      <td>0</td>\n",
              "      <td>0</td>\n",
              "      <td>Freshman Father</td>\n",
              "      <td>Britt Irvin|Merrilyn Gann|Barbara Tyson|Anthon...</td>\n",
              "      <td>NaN</td>\n",
              "      <td>Michael Scott</td>\n",
              "      <td>NaN</td>\n",
              "      <td>...</td>\n",
              "      <td>NaN</td>\n",
              "      <td>0</td>\n",
              "      <td>NaN</td>\n",
              "      <td>NaN</td>\n",
              "      <td>6/5/10</td>\n",
              "      <td>12</td>\n",
              "      <td>5.8</td>\n",
              "      <td>2010</td>\n",
              "      <td>0.000000e+00</td>\n",
              "      <td>0.0</td>\n",
              "    </tr>\n",
              "    <tr>\n",
              "      <th>3329</th>\n",
              "      <td>20414</td>\n",
              "      <td>tt1077026</td>\n",
              "      <td>0.082898</td>\n",
              "      <td>0</td>\n",
              "      <td>0</td>\n",
              "      <td>Grande, grosso e Verdone</td>\n",
              "      <td>Carlo Verdone|Claudia Gerini|Eva Riccobono|Vit...</td>\n",
              "      <td>NaN</td>\n",
              "      <td>Carlo Verdone</td>\n",
              "      <td>NaN</td>\n",
              "      <td>...</td>\n",
              "      <td>No overview found.</td>\n",
              "      <td>0</td>\n",
              "      <td>Family</td>\n",
              "      <td>Filmauro</td>\n",
              "      <td>3/7/08</td>\n",
              "      <td>35</td>\n",
              "      <td>5.3</td>\n",
              "      <td>2008</td>\n",
              "      <td>0.000000e+00</td>\n",
              "      <td>0.0</td>\n",
              "    </tr>\n",
              "    <tr>\n",
              "      <th>3794</th>\n",
              "      <td>58253</td>\n",
              "      <td>tt1588335</td>\n",
              "      <td>0.183134</td>\n",
              "      <td>0</td>\n",
              "      <td>0</td>\n",
              "      <td>Toi, moi, les autres</td>\n",
              "      <td>LeÃ¯la Bekhti|Benjamin Siksou|CÃ©cile Cassel|C...</td>\n",
              "      <td>http://www.google.fr/m/url?ei=e3BxTcjeLMqB8wP6...</td>\n",
              "      <td>Audrey Estrougo</td>\n",
              "      <td>NaN</td>\n",
              "      <td>...</td>\n",
              "      <td>NaN</td>\n",
              "      <td>0</td>\n",
              "      <td>Music|Romance</td>\n",
              "      <td>NaN</td>\n",
              "      <td>2/22/11</td>\n",
              "      <td>17</td>\n",
              "      <td>5.2</td>\n",
              "      <td>2011</td>\n",
              "      <td>0.000000e+00</td>\n",
              "      <td>0.0</td>\n",
              "    </tr>\n",
              "    <tr>\n",
              "      <th>3857</th>\n",
              "      <td>289097</td>\n",
              "      <td>tt1288636</td>\n",
              "      <td>0.095583</td>\n",
              "      <td>0</td>\n",
              "      <td>0</td>\n",
              "      <td>Cell 213</td>\n",
              "      <td>Bruce Greenwood|Eric Balfour|Michael Rooker|De...</td>\n",
              "      <td>NaN</td>\n",
              "      <td>Stephen Kay</td>\n",
              "      <td>NaN</td>\n",
              "      <td>...</td>\n",
              "      <td>Cocky young attorney Michael Gray finds himsel...</td>\n",
              "      <td>0</td>\n",
              "      <td>Horror</td>\n",
              "      <td>Access Motion Pictures</td>\n",
              "      <td>6/10/11</td>\n",
              "      <td>13</td>\n",
              "      <td>5.2</td>\n",
              "      <td>2011</td>\n",
              "      <td>0.000000e+00</td>\n",
              "      <td>0.0</td>\n",
              "    </tr>\n",
              "    <tr>\n",
              "      <th>3884</th>\n",
              "      <td>105885</td>\n",
              "      <td>tt1754944</td>\n",
              "      <td>0.045198</td>\n",
              "      <td>0</td>\n",
              "      <td>0</td>\n",
              "      <td>eCupid</td>\n",
              "      <td>Houston Rhines|Andy Anderson|John Callahan|Gal...</td>\n",
              "      <td>NaN</td>\n",
              "      <td>J.C. Calciano</td>\n",
              "      <td>NaN</td>\n",
              "      <td>...</td>\n",
              "      <td>From the director of Is It Just Me? comes this...</td>\n",
              "      <td>0</td>\n",
              "      <td>Romance</td>\n",
              "      <td>NaN</td>\n",
              "      <td>6/23/11</td>\n",
              "      <td>12</td>\n",
              "      <td>4.6</td>\n",
              "      <td>2011</td>\n",
              "      <td>0.000000e+00</td>\n",
              "      <td>0.0</td>\n",
              "    </tr>\n",
              "    <tr>\n",
              "      <th>4063</th>\n",
              "      <td>28004</td>\n",
              "      <td>tt0359639</td>\n",
              "      <td>0.371510</td>\n",
              "      <td>6000000</td>\n",
              "      <td>0</td>\n",
              "      <td>Madea's Family Reunion</td>\n",
              "      <td>Tyler Perry|Blair Underwood|Lynn Whitfield|Bor...</td>\n",
              "      <td>NaN</td>\n",
              "      <td>Tyler Perry</td>\n",
              "      <td>NaN</td>\n",
              "      <td>...</td>\n",
              "      <td>Just as the southern matriarch, Madea buries h...</td>\n",
              "      <td>0</td>\n",
              "      <td>Comedy</td>\n",
              "      <td>NaN</td>\n",
              "      <td>1/25/02</td>\n",
              "      <td>49</td>\n",
              "      <td>5.9</td>\n",
              "      <td>2002</td>\n",
              "      <td>7.273568e+06</td>\n",
              "      <td>0.0</td>\n",
              "    </tr>\n",
              "    <tr>\n",
              "      <th>4138</th>\n",
              "      <td>44266</td>\n",
              "      <td>tt0242953</td>\n",
              "      <td>0.035895</td>\n",
              "      <td>0</td>\n",
              "      <td>0</td>\n",
              "      <td>A Time for Dancing</td>\n",
              "      <td>Larisa Oleynik|Shiri Appleby|Peter Coyote|Patr...</td>\n",
              "      <td>NaN</td>\n",
              "      <td>Peter Gilbert</td>\n",
              "      <td>NaN</td>\n",
              "      <td>...</td>\n",
              "      <td>Their love of dance, and their friendship, is ...</td>\n",
              "      <td>0</td>\n",
              "      <td>Drama|Music</td>\n",
              "      <td>NaN</td>\n",
              "      <td>9/6/02</td>\n",
              "      <td>14</td>\n",
              "      <td>7.5</td>\n",
              "      <td>2002</td>\n",
              "      <td>0.000000e+00</td>\n",
              "      <td>0.0</td>\n",
              "    </tr>\n",
              "    <tr>\n",
              "      <th>4829</th>\n",
              "      <td>110490</td>\n",
              "      <td>tt1910605</td>\n",
              "      <td>0.140016</td>\n",
              "      <td>0</td>\n",
              "      <td>0</td>\n",
              "      <td>Rags</td>\n",
              "      <td>Keke Palmer|Avan Jogia|Drake Bell|Burkely Duff...</td>\n",
              "      <td>NaN</td>\n",
              "      <td>Bille Woodruff</td>\n",
              "      <td>NaN</td>\n",
              "      <td>...</td>\n",
              "      <td>Rags follows the story of Charlie Prince, an o...</td>\n",
              "      <td>0</td>\n",
              "      <td>TV Movie|Comedy|Drama</td>\n",
              "      <td>NaN</td>\n",
              "      <td>5/28/12</td>\n",
              "      <td>24</td>\n",
              "      <td>5.7</td>\n",
              "      <td>2012</td>\n",
              "      <td>0.000000e+00</td>\n",
              "      <td>0.0</td>\n",
              "    </tr>\n",
              "    <tr>\n",
              "      <th>4944</th>\n",
              "      <td>158150</td>\n",
              "      <td>tt2395247</td>\n",
              "      <td>0.026459</td>\n",
              "      <td>0</td>\n",
              "      <td>0</td>\n",
              "      <td>How to Fall in Love</td>\n",
              "      <td>Brooke D'Orsay|Eric Mabius|Jody Thompson|Gina ...</td>\n",
              "      <td>NaN</td>\n",
              "      <td>Mark Griffiths</td>\n",
              "      <td>NaN</td>\n",
              "      <td>...</td>\n",
              "      <td>An accountant, who never quite grew out of his...</td>\n",
              "      <td>0</td>\n",
              "      <td>Comedy|Romance|TV Movie</td>\n",
              "      <td>Annuit Coeptis Entertainment Inc.|Annuit Coept...</td>\n",
              "      <td>7/21/12</td>\n",
              "      <td>11</td>\n",
              "      <td>4.7</td>\n",
              "      <td>2012</td>\n",
              "      <td>0.000000e+00</td>\n",
              "      <td>0.0</td>\n",
              "    </tr>\n",
              "    <tr>\n",
              "      <th>5216</th>\n",
              "      <td>28003</td>\n",
              "      <td>tt0427481</td>\n",
              "      <td>0.073665</td>\n",
              "      <td>0</td>\n",
              "      <td>0</td>\n",
              "      <td>Madea's Class Reunion</td>\n",
              "      <td>Tyler Perry|Chandra Currelley|Cheryl Pepsii Ri...</td>\n",
              "      <td>NaN</td>\n",
              "      <td>Tyler Perry</td>\n",
              "      <td>NaN</td>\n",
              "      <td>...</td>\n",
              "      <td>Madea is traveling to the Pandora Hotel, where...</td>\n",
              "      <td>0</td>\n",
              "      <td>Comedy|Music</td>\n",
              "      <td>NaN</td>\n",
              "      <td>6/25/03</td>\n",
              "      <td>12</td>\n",
              "      <td>6.9</td>\n",
              "      <td>2003</td>\n",
              "      <td>0.000000e+00</td>\n",
              "      <td>0.0</td>\n",
              "    </tr>\n",
              "    <tr>\n",
              "      <th>5695</th>\n",
              "      <td>224815</td>\n",
              "      <td>tt2881698</td>\n",
              "      <td>0.417739</td>\n",
              "      <td>0</td>\n",
              "      <td>0</td>\n",
              "      <td>Skinwalker Ranch</td>\n",
              "      <td>Steve Berg|Kyle Davis|Erin Cahill|Jon Gries|De...</td>\n",
              "      <td>NaN</td>\n",
              "      <td>Devin McGinn</td>\n",
              "      <td>NaN</td>\n",
              "      <td>...</td>\n",
              "      <td>In  2010 â€œSkinwalker Ranchâ€ gained media at...</td>\n",
              "      <td>0</td>\n",
              "      <td>Thriller|Horror|Science Fiction</td>\n",
              "      <td>DeepStudios</td>\n",
              "      <td>10/30/13</td>\n",
              "      <td>27</td>\n",
              "      <td>4.3</td>\n",
              "      <td>2013</td>\n",
              "      <td>0.000000e+00</td>\n",
              "      <td>0.0</td>\n",
              "    </tr>\n",
              "    <tr>\n",
              "      <th>5920</th>\n",
              "      <td>248842</td>\n",
              "      <td>tt2364006</td>\n",
              "      <td>0.165765</td>\n",
              "      <td>0</td>\n",
              "      <td>0</td>\n",
              "      <td>The Food Guide to Love</td>\n",
              "      <td>Richard Coyle|Leonor Watling|GinÃ©s GarcÃ­a Mi...</td>\n",
              "      <td>NaN</td>\n",
              "      <td>Dominic Harari|Teresa Pelegri</td>\n",
              "      <td>NaN</td>\n",
              "      <td>...</td>\n",
              "      <td>A dysfunctional love story about an Irish food...</td>\n",
              "      <td>0</td>\n",
              "      <td>Romance|Comedy</td>\n",
              "      <td>Haut et Court|Parallel Film Productions|Fox In...</td>\n",
              "      <td>12/18/13</td>\n",
              "      <td>12</td>\n",
              "      <td>5.6</td>\n",
              "      <td>2013</td>\n",
              "      <td>0.000000e+00</td>\n",
              "      <td>0.0</td>\n",
              "    </tr>\n",
              "    <tr>\n",
              "      <th>5938</th>\n",
              "      <td>191562</td>\n",
              "      <td>tt2436516</td>\n",
              "      <td>0.147188</td>\n",
              "      <td>0</td>\n",
              "      <td>0</td>\n",
              "      <td>Go Goa Gone</td>\n",
              "      <td>Saif Ali Khan|Anand Tiwari|Vir Das|Pooja Gupta</td>\n",
              "      <td>NaN</td>\n",
              "      <td>Krishna D.K.|Raj Nidimoru</td>\n",
              "      <td>NaN</td>\n",
              "      <td>...</td>\n",
              "      <td>A rave party off the coast of Goa, goes horrif...</td>\n",
              "      <td>0</td>\n",
              "      <td>Comedy|Horror</td>\n",
              "      <td>Eros International</td>\n",
              "      <td>5/10/13</td>\n",
              "      <td>16</td>\n",
              "      <td>5.3</td>\n",
              "      <td>2013</td>\n",
              "      <td>0.000000e+00</td>\n",
              "      <td>0.0</td>\n",
              "    </tr>\n",
              "    <tr>\n",
              "      <th>5992</th>\n",
              "      <td>173847</td>\n",
              "      <td>tt2343371</td>\n",
              "      <td>0.096455</td>\n",
              "      <td>0</td>\n",
              "      <td>0</td>\n",
              "      <td>Amiche da morire</td>\n",
              "      <td>Claudia Gerini|Cristiana Capotondi|Sabrina Imp...</td>\n",
              "      <td>NaN</td>\n",
              "      <td>Giorgia Farina</td>\n",
              "      <td>NaN</td>\n",
              "      <td>...</td>\n",
              "      <td>Three very different women who are hiding a se...</td>\n",
              "      <td>0</td>\n",
              "      <td>Romance|Crime|Comedy</td>\n",
              "      <td>NaN</td>\n",
              "      <td>3/7/13</td>\n",
              "      <td>30</td>\n",
              "      <td>5.5</td>\n",
              "      <td>2013</td>\n",
              "      <td>0.000000e+00</td>\n",
              "      <td>0.0</td>\n",
              "    </tr>\n",
              "    <tr>\n",
              "      <th>6040</th>\n",
              "      <td>202604</td>\n",
              "      <td>tt3043194</td>\n",
              "      <td>0.011798</td>\n",
              "      <td>0</td>\n",
              "      <td>0</td>\n",
              "      <td>The Vatican Exorcisms</td>\n",
              "      <td>Joe Marino</td>\n",
              "      <td>NaN</td>\n",
              "      <td>Joe Marino</td>\n",
              "      <td>The public were never meant to know</td>\n",
              "      <td>...</td>\n",
              "      <td>Documentary following US film-maker Joe Marino...</td>\n",
              "      <td>0</td>\n",
              "      <td>Horror|Documentary|Mystery</td>\n",
              "      <td>NaN</td>\n",
              "      <td>5/29/13</td>\n",
              "      <td>10</td>\n",
              "      <td>4.7</td>\n",
              "      <td>2013</td>\n",
              "      <td>0.000000e+00</td>\n",
              "      <td>0.0</td>\n",
              "    </tr>\n",
              "    <tr>\n",
              "      <th>6383</th>\n",
              "      <td>26985</td>\n",
              "      <td>tt0405615</td>\n",
              "      <td>0.371630</td>\n",
              "      <td>2000000</td>\n",
              "      <td>0</td>\n",
              "      <td>The 12 Dogs of Christmas</td>\n",
              "      <td>Jordan-Claire Green|Tom Kemp|Susan Wood|Adam H...</td>\n",
              "      <td>NaN</td>\n",
              "      <td>Kieth Merrill</td>\n",
              "      <td>NaN</td>\n",
              "      <td>...</td>\n",
              "      <td>This holiday tale has all the elements of a cl...</td>\n",
              "      <td>0</td>\n",
              "      <td>Drama|Family</td>\n",
              "      <td>NaN</td>\n",
              "      <td>11/1/05</td>\n",
              "      <td>11</td>\n",
              "      <td>4.7</td>\n",
              "      <td>2005</td>\n",
              "      <td>2.233127e+06</td>\n",
              "      <td>0.0</td>\n",
              "    </tr>\n",
              "    <tr>\n",
              "      <th>6552</th>\n",
              "      <td>13739</td>\n",
              "      <td>tt0448245</td>\n",
              "      <td>0.006440</td>\n",
              "      <td>0</td>\n",
              "      <td>0</td>\n",
              "      <td>Quatre Ã©toiles</td>\n",
              "      <td>JosÃ© Garcia|Isabelle CarrÃ©|RenÃ©e Le Calm|Fr...</td>\n",
              "      <td>NaN</td>\n",
              "      <td>Christian Vincent</td>\n",
              "      <td>NaN</td>\n",
              "      <td>...</td>\n",
              "      <td>No overview found.</td>\n",
              "      <td>0</td>\n",
              "      <td>Comedy</td>\n",
              "      <td>NaN</td>\n",
              "      <td>1/1/05</td>\n",
              "      <td>15</td>\n",
              "      <td>5.9</td>\n",
              "      <td>2005</td>\n",
              "      <td>0.000000e+00</td>\n",
              "      <td>0.0</td>\n",
              "    </tr>\n",
              "    <tr>\n",
              "      <th>6934</th>\n",
              "      <td>13713</td>\n",
              "      <td>tt0477988</td>\n",
              "      <td>0.071872</td>\n",
              "      <td>0</td>\n",
              "      <td>0</td>\n",
              "      <td>Jean-Philippe</td>\n",
              "      <td>Fabrice Luchini|Johnny Hallyday|Jackie Berroye...</td>\n",
              "      <td>NaN</td>\n",
              "      <td>Laurent Tuel</td>\n",
              "      <td>NaN</td>\n",
              "      <td>...</td>\n",
              "      <td>No overview found.</td>\n",
              "      <td>0</td>\n",
              "      <td>Comedy</td>\n",
              "      <td>FidÃ©litÃ© Productions|StudioCanal|TF1 Films P...</td>\n",
              "      <td>4/5/06</td>\n",
              "      <td>26</td>\n",
              "      <td>5.6</td>\n",
              "      <td>2006</td>\n",
              "      <td>0.000000e+00</td>\n",
              "      <td>0.0</td>\n",
              "    </tr>\n",
              "    <tr>\n",
              "      <th>8874</th>\n",
              "      <td>46406</td>\n",
              "      <td>tt0248185</td>\n",
              "      <td>0.069903</td>\n",
              "      <td>0</td>\n",
              "      <td>0</td>\n",
              "      <td>Mission Kashmir</td>\n",
              "      <td>Sanjay Dutt|Hrithik Roshan|Preity Zinta|Jackie...</td>\n",
              "      <td>NaN</td>\n",
              "      <td>Vidhu Vinod Chopra</td>\n",
              "      <td>NaN</td>\n",
              "      <td>...</td>\n",
              "      <td>A police officer adopts the son and sole survi...</td>\n",
              "      <td>0</td>\n",
              "      <td>Action|Drama|Foreign</td>\n",
              "      <td>NaN</td>\n",
              "      <td>10/27/00</td>\n",
              "      <td>10</td>\n",
              "      <td>5.7</td>\n",
              "      <td>2000</td>\n",
              "      <td>0.000000e+00</td>\n",
              "      <td>0.0</td>\n",
              "    </tr>\n",
              "  </tbody>\n",
              "</table>\n",
              "<p>31 rows × 21 columns</p>\n",
              "</div>"
            ],
            "text/plain": [
              "          id    imdb_id  popularity   budget  revenue  \\\n",
              "92    370687  tt3608646    1.876037        0        0   \n",
              "334   361931  tt5065822    0.357654        0        0   \n",
              "410   339342  tt2948712    0.097514        0        0   \n",
              "445   353345  tt3800796    0.218528        0        0   \n",
              "486   333653  tt4058368    0.176744        0        0   \n",
              "595   341051  tt2914740    0.028725        0        0   \n",
              "616   325843  tt4333210    0.026797        0        0   \n",
              "1241  296370  tt3024964    0.135376        0        0   \n",
              "1289  286372  tt1791681    0.037459  3250000        0   \n",
              "1293  286256  tt3134058    0.036904        0        0   \n",
              "1849   18247  tt1212986    0.120350        0        0   \n",
              "2315   48373  tt1274296    0.171615        0        0   \n",
              "2370  127717  tt1525359    0.081892        0        0   \n",
              "3329   20414  tt1077026    0.082898        0        0   \n",
              "3794   58253  tt1588335    0.183134        0        0   \n",
              "3857  289097  tt1288636    0.095583        0        0   \n",
              "3884  105885  tt1754944    0.045198        0        0   \n",
              "4063   28004  tt0359639    0.371510  6000000        0   \n",
              "4138   44266  tt0242953    0.035895        0        0   \n",
              "4829  110490  tt1910605    0.140016        0        0   \n",
              "4944  158150  tt2395247    0.026459        0        0   \n",
              "5216   28003  tt0427481    0.073665        0        0   \n",
              "5695  224815  tt2881698    0.417739        0        0   \n",
              "5920  248842  tt2364006    0.165765        0        0   \n",
              "5938  191562  tt2436516    0.147188        0        0   \n",
              "5992  173847  tt2343371    0.096455        0        0   \n",
              "6040  202604  tt3043194    0.011798        0        0   \n",
              "6383   26985  tt0405615    0.371630  2000000        0   \n",
              "6552   13739  tt0448245    0.006440        0        0   \n",
              "6934   13713  tt0477988    0.071872        0        0   \n",
              "8874   46406  tt0248185    0.069903        0        0   \n",
              "\n",
              "                     original_title  \\\n",
              "92         Mythica: The Necromancer   \n",
              "334                         Ronaldo   \n",
              "410                  Anarchy Parlor   \n",
              "445   The Exorcism of Molly Hartley   \n",
              "486              If There Be Thorns   \n",
              "595                       Deep Dark   \n",
              "616                    The Outfield   \n",
              "1241                      Dance-Off   \n",
              "1289                      Treehouse   \n",
              "1293                       Tim Maia   \n",
              "1849                   Spectacular!   \n",
              "2315           Listen to Your Heart   \n",
              "2370                Freshman Father   \n",
              "3329       Grande, grosso e Verdone   \n",
              "3794           Toi, moi, les autres   \n",
              "3857                       Cell 213   \n",
              "3884                         eCupid   \n",
              "4063         Madea's Family Reunion   \n",
              "4138             A Time for Dancing   \n",
              "4829                           Rags   \n",
              "4944            How to Fall in Love   \n",
              "5216          Madea's Class Reunion   \n",
              "5695               Skinwalker Ranch   \n",
              "5920         The Food Guide to Love   \n",
              "5938                    Go Goa Gone   \n",
              "5992               Amiche da morire   \n",
              "6040          The Vatican Exorcisms   \n",
              "6383       The 12 Dogs of Christmas   \n",
              "6552                Quatre Ã©toiles   \n",
              "6934                  Jean-Philippe   \n",
              "8874                Mission Kashmir   \n",
              "\n",
              "                                                   cast  \\\n",
              "92    Melanie Stone|Adam Johnson|Kevin Sorbo|Nicola ...   \n",
              "334                                   Cristiano Ronaldo   \n",
              "410   Robert LaSardo|Jordan James Smith|Sara Fabel|T...   \n",
              "445   Sarah Lind|Devon Sawa|Gina Holden|Peter MacNei...   \n",
              "486   Heather Graham|Jason Lewis|Rachael Carpani|Mas...   \n",
              "595   Sean McGrath|Denise Poirier|Anne Sorce|Tabor H...   \n",
              "616   Cameron Dallas|Hamilton Nash Grier|Olivia Stuc...   \n",
              "1241  Kathryn McCormick|Shane Harper|Finola Hughes|C...   \n",
              "1289  J. Michael Trautmann|Dana Melanie|Daniel Fredr...   \n",
              "1293  Robson Nunes|BabÃº Santana|Alinne Moraes|CauÃ£...   \n",
              "1849  Nolan Gerard Funk|Jesse Moss|Britt Irvin|Tammi...   \n",
              "2315  Alexia Rasmussen|Kent Moran|Cybill Shepherd|Sh...   \n",
              "2370  Britt Irvin|Merrilyn Gann|Barbara Tyson|Anthon...   \n",
              "3329  Carlo Verdone|Claudia Gerini|Eva Riccobono|Vit...   \n",
              "3794  LeÃ¯la Bekhti|Benjamin Siksou|CÃ©cile Cassel|C...   \n",
              "3857  Bruce Greenwood|Eric Balfour|Michael Rooker|De...   \n",
              "3884  Houston Rhines|Andy Anderson|John Callahan|Gal...   \n",
              "4063  Tyler Perry|Blair Underwood|Lynn Whitfield|Bor...   \n",
              "4138  Larisa Oleynik|Shiri Appleby|Peter Coyote|Patr...   \n",
              "4829  Keke Palmer|Avan Jogia|Drake Bell|Burkely Duff...   \n",
              "4944  Brooke D'Orsay|Eric Mabius|Jody Thompson|Gina ...   \n",
              "5216  Tyler Perry|Chandra Currelley|Cheryl Pepsii Ri...   \n",
              "5695  Steve Berg|Kyle Davis|Erin Cahill|Jon Gries|De...   \n",
              "5920  Richard Coyle|Leonor Watling|GinÃ©s GarcÃ­a Mi...   \n",
              "5938     Saif Ali Khan|Anand Tiwari|Vir Das|Pooja Gupta   \n",
              "5992  Claudia Gerini|Cristiana Capotondi|Sabrina Imp...   \n",
              "6040                                         Joe Marino   \n",
              "6383  Jordan-Claire Green|Tom Kemp|Susan Wood|Adam H...   \n",
              "6552  JosÃ© Garcia|Isabelle CarrÃ©|RenÃ©e Le Calm|Fr...   \n",
              "6934  Fabrice Luchini|Johnny Hallyday|Jackie Berroye...   \n",
              "8874  Sanjay Dutt|Hrithik Roshan|Preity Zinta|Jackie...   \n",
              "\n",
              "                                               homepage  \\\n",
              "92            http://www.mythicamovie.com/#!blank/y9ake   \n",
              "334                       http://www.ronaldothefilm.com   \n",
              "410                                                 NaN   \n",
              "445                                                 NaN   \n",
              "486                                                 NaN   \n",
              "595                            http://deepdarkmovie.com   \n",
              "616                                                 NaN   \n",
              "1241                                                NaN   \n",
              "1289               http://www.imdb.com/title/tt1791681/   \n",
              "1293                                                NaN   \n",
              "1849                                                NaN   \n",
              "2315              http://www.listentoyourheartfilm.com/   \n",
              "2370                                                NaN   \n",
              "3329                                                NaN   \n",
              "3794  http://www.google.fr/m/url?ei=e3BxTcjeLMqB8wP6...   \n",
              "3857                                                NaN   \n",
              "3884                                                NaN   \n",
              "4063                                                NaN   \n",
              "4138                                                NaN   \n",
              "4829                                                NaN   \n",
              "4944                                                NaN   \n",
              "5216                                                NaN   \n",
              "5695                                                NaN   \n",
              "5920                                                NaN   \n",
              "5938                                                NaN   \n",
              "5992                                                NaN   \n",
              "6040                                                NaN   \n",
              "6383                                                NaN   \n",
              "6552                                                NaN   \n",
              "6934                                                NaN   \n",
              "8874                                                NaN   \n",
              "\n",
              "                           director                              tagline  \\\n",
              "92                    A. Todd Smith                                  NaN   \n",
              "334                   Anthony Wonke   Astonishing. Intimate. Definitive.   \n",
              "410          Kenny Gage|Devon Downs                                  NaN   \n",
              "445                Steven R. Monroe                                  NaN   \n",
              "486                    Nancy Savoca                                  NaN   \n",
              "595                Michael Medaglia                                  NaN   \n",
              "616                Michael Goldfine                                  NaN   \n",
              "1241                            NaN                                  NaN   \n",
              "1289            Michael G. Bartlett                      No kids allowed   \n",
              "1293                     Mauro Lima         Original language PORTUGUESE   \n",
              "1849                  Robert Iscove                                  NaN   \n",
              "2315                            NaN       One song can change your life.   \n",
              "2370                  Michael Scott                                  NaN   \n",
              "3329                  Carlo Verdone                                  NaN   \n",
              "3794                Audrey Estrougo                                  NaN   \n",
              "3857                    Stephen Kay                                  NaN   \n",
              "3884                  J.C. Calciano                                  NaN   \n",
              "4063                    Tyler Perry                                  NaN   \n",
              "4138                  Peter Gilbert                                  NaN   \n",
              "4829                 Bille Woodruff                                  NaN   \n",
              "4944                 Mark Griffiths                                  NaN   \n",
              "5216                    Tyler Perry                                  NaN   \n",
              "5695                   Devin McGinn                                  NaN   \n",
              "5920  Dominic Harari|Teresa Pelegri                                  NaN   \n",
              "5938      Krishna D.K.|Raj Nidimoru                                  NaN   \n",
              "5992                 Giorgia Farina                                  NaN   \n",
              "6040                     Joe Marino  The public were never meant to know   \n",
              "6383                  Kieth Merrill                                  NaN   \n",
              "6552              Christian Vincent                                  NaN   \n",
              "6934                   Laurent Tuel                                  NaN   \n",
              "8874             Vidhu Vinod Chopra                                  NaN   \n",
              "\n",
              "         ...                                                overview runtime  \\\n",
              "92       ...       Mallister takes Thane prisoner and forces Mare...       0   \n",
              "334      ...       Filmed over 14 months with unprecedented acces...       0   \n",
              "410      ...       Six young college hopefuls vacationing and par...       0   \n",
              "445      ...       Taking place years after The Haunting of Molly...       0   \n",
              "486      ...       The third installment in V.C. Andrewsâ€™ bests...       0   \n",
              "595      ...       Fantasy - A failed sculptor discovers a strang...       0   \n",
              "616      ...       The film follows a trio of varsity baseball pl...       0   \n",
              "1241     ...       DANCE-OFF is a tongue-in-cheek family comedy s...       0   \n",
              "1289     ...       A teenage boy discovers the perpetrators of se...       0   \n",
              "1293     ...       Biopic of Brazilian singer Tim Maia, from his ...       0   \n",
              "1849     ...       A high school choir is fading in popularity, a...       0   \n",
              "2315     ...       Danny Foster doesn't have much: an apartment a...       0   \n",
              "2370     ...                                                     NaN       0   \n",
              "3329     ...                                      No overview found.       0   \n",
              "3794     ...                                                     NaN       0   \n",
              "3857     ...       Cocky young attorney Michael Gray finds himsel...       0   \n",
              "3884     ...       From the director of Is It Just Me? comes this...       0   \n",
              "4063     ...       Just as the southern matriarch, Madea buries h...       0   \n",
              "4138     ...       Their love of dance, and their friendship, is ...       0   \n",
              "4829     ...       Rags follows the story of Charlie Prince, an o...       0   \n",
              "4944     ...       An accountant, who never quite grew out of his...       0   \n",
              "5216     ...       Madea is traveling to the Pandora Hotel, where...       0   \n",
              "5695     ...       In  2010 â€œSkinwalker Ranchâ€ gained media at...       0   \n",
              "5920     ...       A dysfunctional love story about an Irish food...       0   \n",
              "5938     ...       A rave party off the coast of Goa, goes horrif...       0   \n",
              "5992     ...       Three very different women who are hiding a se...       0   \n",
              "6040     ...       Documentary following US film-maker Joe Marino...       0   \n",
              "6383     ...       This holiday tale has all the elements of a cl...       0   \n",
              "6552     ...                                      No overview found.       0   \n",
              "6934     ...                                      No overview found.       0   \n",
              "8874     ...       A police officer adopts the son and sole survi...       0   \n",
              "\n",
              "                               genres  \\\n",
              "92           Fantasy|Action|Adventure   \n",
              "334                       Documentary   \n",
              "410                            Horror   \n",
              "445                            Horror   \n",
              "486                    TV Movie|Drama   \n",
              "595                            Horror   \n",
              "616                      Drama|Comedy   \n",
              "1241             Romance|Music|Comedy   \n",
              "1289          Thriller|Horror|Mystery   \n",
              "1293          Documentary|Drama|Music   \n",
              "1849                      Drama|Music   \n",
              "2315              Drama|Music|Romance   \n",
              "2370                              NaN   \n",
              "3329                           Family   \n",
              "3794                    Music|Romance   \n",
              "3857                           Horror   \n",
              "3884                          Romance   \n",
              "4063                           Comedy   \n",
              "4138                      Drama|Music   \n",
              "4829            TV Movie|Comedy|Drama   \n",
              "4944          Comedy|Romance|TV Movie   \n",
              "5216                     Comedy|Music   \n",
              "5695  Thriller|Horror|Science Fiction   \n",
              "5920                   Romance|Comedy   \n",
              "5938                    Comedy|Horror   \n",
              "5992             Romance|Crime|Comedy   \n",
              "6040       Horror|Documentary|Mystery   \n",
              "6383                     Drama|Family   \n",
              "6552                           Comedy   \n",
              "6934                           Comedy   \n",
              "8874             Action|Drama|Foreign   \n",
              "\n",
              "                                   production_companies release_date  \\\n",
              "92    Arrowstorm Entertainment|Camera 40 Productions...     12/19/15   \n",
              "334   On The Corner Films|We Came, We Saw, We Conque...      11/9/15   \n",
              "410                                                 NaN       1/1/15   \n",
              "445                               WT Canada Productions      10/9/15   \n",
              "486                 A+E Studios|Jane Startz Productions       4/5/15   \n",
              "595                                                 NaN       1/1/15   \n",
              "616                                                 NaN     11/10/15   \n",
              "1241                                                NaN       1/1/14   \n",
              "1289                                      Tiberius Film     10/20/14   \n",
              "1293                                       Globo Filmes     10/30/14   \n",
              "1849                                                NaN      2/16/09   \n",
              "2315                                                NaN      8/14/10   \n",
              "2370                                                NaN       6/5/10   \n",
              "3329                                           Filmauro       3/7/08   \n",
              "3794                                                NaN      2/22/11   \n",
              "3857                             Access Motion Pictures      6/10/11   \n",
              "3884                                                NaN      6/23/11   \n",
              "4063                                                NaN      1/25/02   \n",
              "4138                                                NaN       9/6/02   \n",
              "4829                                                NaN      5/28/12   \n",
              "4944  Annuit Coeptis Entertainment Inc.|Annuit Coept...      7/21/12   \n",
              "5216                                                NaN      6/25/03   \n",
              "5695                                        DeepStudios     10/30/13   \n",
              "5920  Haut et Court|Parallel Film Productions|Fox In...     12/18/13   \n",
              "5938                                 Eros International      5/10/13   \n",
              "5992                                                NaN       3/7/13   \n",
              "6040                                                NaN      5/29/13   \n",
              "6383                                                NaN      11/1/05   \n",
              "6552                                                NaN       1/1/05   \n",
              "6934  FidÃ©litÃ© Productions|StudioCanal|TF1 Films P...       4/5/06   \n",
              "8874                                                NaN     10/27/00   \n",
              "\n",
              "     vote_count  vote_average  release_year    budget_adj  revenue_adj  \n",
              "92           11           5.4          2015  0.000000e+00          0.0  \n",
              "334          80           6.5          2015  0.000000e+00          0.0  \n",
              "410          15           5.6          2015  0.000000e+00          0.0  \n",
              "445          52           5.0          2015  0.000000e+00          0.0  \n",
              "486          11           5.4          2015  0.000000e+00          0.0  \n",
              "595          11           4.6          2015  0.000000e+00          0.0  \n",
              "616          20           6.6          2015  0.000000e+00          0.0  \n",
              "1241         18           5.7          2014  0.000000e+00          0.0  \n",
              "1289         16           3.4          2014  2.993546e+06          0.0  \n",
              "1293         14           6.0          2014  0.000000e+00          0.0  \n",
              "1849         13           5.2          2009  0.000000e+00          0.0  \n",
              "2315         29           7.3          2010  0.000000e+00          0.0  \n",
              "2370         12           5.8          2010  0.000000e+00          0.0  \n",
              "3329         35           5.3          2008  0.000000e+00          0.0  \n",
              "3794         17           5.2          2011  0.000000e+00          0.0  \n",
              "3857         13           5.2          2011  0.000000e+00          0.0  \n",
              "3884         12           4.6          2011  0.000000e+00          0.0  \n",
              "4063         49           5.9          2002  7.273568e+06          0.0  \n",
              "4138         14           7.5          2002  0.000000e+00          0.0  \n",
              "4829         24           5.7          2012  0.000000e+00          0.0  \n",
              "4944         11           4.7          2012  0.000000e+00          0.0  \n",
              "5216         12           6.9          2003  0.000000e+00          0.0  \n",
              "5695         27           4.3          2013  0.000000e+00          0.0  \n",
              "5920         12           5.6          2013  0.000000e+00          0.0  \n",
              "5938         16           5.3          2013  0.000000e+00          0.0  \n",
              "5992         30           5.5          2013  0.000000e+00          0.0  \n",
              "6040         10           4.7          2013  0.000000e+00          0.0  \n",
              "6383         11           4.7          2005  2.233127e+06          0.0  \n",
              "6552         15           5.9          2005  0.000000e+00          0.0  \n",
              "6934         26           5.6          2006  0.000000e+00          0.0  \n",
              "8874         10           5.7          2000  0.000000e+00          0.0  \n",
              "\n",
              "[31 rows x 21 columns]"
            ]
          },
          "metadata": {
            "tags": []
          },
          "execution_count": 229
        }
      ]
    },
    {
      "cell_type": "markdown",
      "metadata": {
        "id": "inB539eOjBbM"
      },
      "source": [
        "The \"0 \" values in runtime, are also in the same rows where either or both budget / revnue have zero values.\n",
        "as the count of rows is small i will drop these rows.\n",
        "\n",
        "Next wil check for any duplicated rows in the dataset."
      ]
    },
    {
      "cell_type": "code",
      "metadata": {
        "id": "c87DWQlijBbM",
        "outputId": "c2305039-0e52-49c3-8761-76f5e638e70b"
      },
      "source": [
        "# sum of dupelicated rows\n",
        "sum(df.duplicated())"
      ],
      "execution_count": null,
      "outputs": [
        {
          "output_type": "execute_result",
          "data": {
            "text/plain": [
              "1"
            ]
          },
          "metadata": {
            "tags": []
          },
          "execution_count": 230
        }
      ]
    },
    {
      "cell_type": "markdown",
      "metadata": {
        "id": "C1i9PseejBbM"
      },
      "source": [
        "### Cleaning"
      ]
    },
    {
      "cell_type": "markdown",
      "metadata": {
        "id": "6VN0-LPijBbM"
      },
      "source": [
        "Here we will start cleaning the data, first step i will remove the columns that are neot needed for the analysis."
      ]
    },
    {
      "cell_type": "markdown",
      "metadata": {
        "id": "WfS0QLphjBbN"
      },
      "source": [
        "#### Drop columns"
      ]
    },
    {
      "cell_type": "code",
      "metadata": {
        "id": "KWwJQKXWjBbN"
      },
      "source": [
        "#drop the selected columns\n",
        "df.drop(['id','imdb_id', 'homepage', 'tagline', 'keywords', 'overview', 'budget_adj', 'revenue_adj'], axis=1, inplace=True)"
      ],
      "execution_count": null,
      "outputs": []
    },
    {
      "cell_type": "code",
      "metadata": {
        "id": "7rZeShiEjBbN",
        "outputId": "71e1e106-64a3-42b3-ea6b-63c51b705f27"
      },
      "source": [
        "#confirm that the columns have been dropped\n",
        "df.head(0)"
      ],
      "execution_count": null,
      "outputs": [
        {
          "output_type": "execute_result",
          "data": {
            "text/html": [
              "<div>\n",
              "<style scoped>\n",
              "    .dataframe tbody tr th:only-of-type {\n",
              "        vertical-align: middle;\n",
              "    }\n",
              "\n",
              "    .dataframe tbody tr th {\n",
              "        vertical-align: top;\n",
              "    }\n",
              "\n",
              "    .dataframe thead th {\n",
              "        text-align: right;\n",
              "    }\n",
              "</style>\n",
              "<table border=\"1\" class=\"dataframe\">\n",
              "  <thead>\n",
              "    <tr style=\"text-align: right;\">\n",
              "      <th></th>\n",
              "      <th>popularity</th>\n",
              "      <th>budget</th>\n",
              "      <th>revenue</th>\n",
              "      <th>original_title</th>\n",
              "      <th>cast</th>\n",
              "      <th>director</th>\n",
              "      <th>runtime</th>\n",
              "      <th>genres</th>\n",
              "      <th>production_companies</th>\n",
              "      <th>release_date</th>\n",
              "      <th>vote_count</th>\n",
              "      <th>vote_average</th>\n",
              "      <th>release_year</th>\n",
              "    </tr>\n",
              "  </thead>\n",
              "  <tbody>\n",
              "  </tbody>\n",
              "</table>\n",
              "</div>"
            ],
            "text/plain": [
              "Empty DataFrame\n",
              "Columns: [popularity, budget, revenue, original_title, cast, director, runtime, genres, production_companies, release_date, vote_count, vote_average, release_year]\n",
              "Index: []"
            ]
          },
          "metadata": {
            "tags": []
          },
          "execution_count": 232
        }
      ]
    },
    {
      "cell_type": "markdown",
      "metadata": {
        "id": "S6nhSYeQjBbN"
      },
      "source": [
        "#### Drop duplicates"
      ]
    },
    {
      "cell_type": "code",
      "metadata": {
        "id": "ENCroWPmjBbN",
        "outputId": "763b27e9-b5cc-453d-bbd6-5a7d62901deb"
      },
      "source": [
        "#Drop the duplicates\n",
        "df.drop_duplicates(inplace=True)\n",
        "\n",
        "#check again to confirm duplicates have been dropped should return '0'\n",
        "sum(df.duplicated())"
      ],
      "execution_count": null,
      "outputs": [
        {
          "output_type": "execute_result",
          "data": {
            "text/plain": [
              "0"
            ]
          },
          "metadata": {
            "tags": []
          },
          "execution_count": 233
        }
      ]
    },
    {
      "cell_type": "markdown",
      "metadata": {
        "id": "LUviaOM4jBbN"
      },
      "source": [
        "#### Replace 0 value with null"
      ]
    },
    {
      "cell_type": "markdown",
      "metadata": {
        "id": "nQdSbIRyjBbN"
      },
      "source": [
        "First will drop the runtime null values"
      ]
    },
    {
      "cell_type": "code",
      "metadata": {
        "id": "Or-JU6eQjBbN"
      },
      "source": [
        "#replace zero values to null and delete rows.\n",
        "df['runtime'].replace(0, np.NAN, inplace=True)\n",
        "df.runtime.isnull().sum()\n",
        "df.dropna(inplace =True)"
      ],
      "execution_count": null,
      "outputs": []
    },
    {
      "cell_type": "markdown",
      "metadata": {
        "id": "V8Y4930WjBbO"
      },
      "source": [
        "Next to replace zeros from the budget and revenue columns"
      ]
    },
    {
      "cell_type": "code",
      "metadata": {
        "id": "50klYl4_jBbO"
      },
      "source": [
        "#replace 'zero values' and drop the rows accordingly from the dataset.\n",
        "df['revenue'].replace(0, np.NAN, inplace=True)\n",
        "df['budget'].replace(0, np.NAN, inplace=True)\n",
        "#delete the null values.\n",
        "delete = ['budget','revenue']\n",
        "df.dropna(subset = delete, inplace = True)"
      ],
      "execution_count": null,
      "outputs": []
    },
    {
      "cell_type": "markdown",
      "metadata": {
        "id": "T3NlKzxDjBbO"
      },
      "source": [
        "now we have cleaned up some data, lets recheck to see if there are any \"0\" values remaining and that the changes from zero to null is made."
      ]
    },
    {
      "cell_type": "code",
      "metadata": {
        "id": "xfRBii31jBbO",
        "outputId": "f89a1216-d9f6-434a-e6af-79b20d0cd555"
      },
      "source": [
        "#checks and sums the \"0\"\n",
        "df.isin([0]).sum()"
      ],
      "execution_count": null,
      "outputs": [
        {
          "output_type": "execute_result",
          "data": {
            "text/plain": [
              "popularity              0\n",
              "budget                  0\n",
              "revenue                 0\n",
              "original_title          0\n",
              "cast                    0\n",
              "director                0\n",
              "runtime                 0\n",
              "genres                  0\n",
              "production_companies    0\n",
              "release_date            0\n",
              "vote_count              0\n",
              "vote_average            0\n",
              "release_year            0\n",
              "dtype: int64"
            ]
          },
          "metadata": {
            "tags": []
          },
          "execution_count": 236
        }
      ]
    },
    {
      "cell_type": "code",
      "metadata": {
        "id": "xfHRsryXjBbO",
        "outputId": "b7e33ce3-52a1-4525-f6ce-0d57d5742677"
      },
      "source": [
        "#check final rows avaialble for analysis and datatype\n",
        "df.info()"
      ],
      "execution_count": null,
      "outputs": [
        {
          "output_type": "stream",
          "text": [
            "<class 'pandas.core.frame.DataFrame'>\n",
            "Int64Index: 3805 entries, 0 to 10848\n",
            "Data columns (total 13 columns):\n",
            "popularity              3805 non-null float64\n",
            "budget                  3805 non-null float64\n",
            "revenue                 3805 non-null float64\n",
            "original_title          3805 non-null object\n",
            "cast                    3805 non-null object\n",
            "director                3805 non-null object\n",
            "runtime                 3805 non-null float64\n",
            "genres                  3805 non-null object\n",
            "production_companies    3805 non-null object\n",
            "release_date            3805 non-null object\n",
            "vote_count              3805 non-null int64\n",
            "vote_average            3805 non-null float64\n",
            "release_year            3805 non-null int64\n",
            "dtypes: float64(5), int64(2), object(6)\n",
            "memory usage: 416.2+ KB\n"
          ],
          "name": "stdout"
        }
      ]
    },
    {
      "cell_type": "markdown",
      "metadata": {
        "id": "lpk5AoWNjBbO"
      },
      "source": [
        "This looks ok now, we will have 3805 entries to work with however this is big loss and can be a big limitation,next i will create the pofit / loss column, and change the release_date to date date type"
      ]
    },
    {
      "cell_type": "markdown",
      "metadata": {
        "id": "cR4WcUvnjBbO"
      },
      "source": [
        "#### Create profit / loss column & change data type of release date"
      ]
    },
    {
      "cell_type": "code",
      "metadata": {
        "id": "8FgOT-SpjBbP",
        "outputId": "44b737b2-ec59-41ee-e16c-0b0221687013"
      },
      "source": [
        "# correcting the release year data type.\n",
        "df['release_date'] = pd.to_datetime(df['release_date'])\n",
        "\n",
        "#confirming the change\n",
        "print(type(df['release_date'][0]))"
      ],
      "execution_count": null,
      "outputs": [
        {
          "output_type": "stream",
          "text": [
            "<class 'pandas._libs.tslibs.timestamps.Timestamp'>\n"
          ],
          "name": "stdout"
        }
      ]
    },
    {
      "cell_type": "code",
      "metadata": {
        "id": "AC76AvZMjBbP"
      },
      "source": [
        "# create prof_loss column, subtract budget from the revenue\n",
        "df['prof_loss'] = df['revenue']-df['budget']"
      ],
      "execution_count": null,
      "outputs": []
    },
    {
      "cell_type": "code",
      "metadata": {
        "id": "2HrS_0vPjBbP",
        "outputId": "d4b91b91-ef1a-468c-fe10-0d540b993fe8"
      },
      "source": [
        "#display top to rows\n",
        "df.head(2)"
      ],
      "execution_count": null,
      "outputs": [
        {
          "output_type": "execute_result",
          "data": {
            "text/html": [
              "<div>\n",
              "<style scoped>\n",
              "    .dataframe tbody tr th:only-of-type {\n",
              "        vertical-align: middle;\n",
              "    }\n",
              "\n",
              "    .dataframe tbody tr th {\n",
              "        vertical-align: top;\n",
              "    }\n",
              "\n",
              "    .dataframe thead th {\n",
              "        text-align: right;\n",
              "    }\n",
              "</style>\n",
              "<table border=\"1\" class=\"dataframe\">\n",
              "  <thead>\n",
              "    <tr style=\"text-align: right;\">\n",
              "      <th></th>\n",
              "      <th>popularity</th>\n",
              "      <th>budget</th>\n",
              "      <th>revenue</th>\n",
              "      <th>original_title</th>\n",
              "      <th>cast</th>\n",
              "      <th>director</th>\n",
              "      <th>runtime</th>\n",
              "      <th>genres</th>\n",
              "      <th>production_companies</th>\n",
              "      <th>release_date</th>\n",
              "      <th>vote_count</th>\n",
              "      <th>vote_average</th>\n",
              "      <th>release_year</th>\n",
              "      <th>prof_loss</th>\n",
              "    </tr>\n",
              "  </thead>\n",
              "  <tbody>\n",
              "    <tr>\n",
              "      <th>0</th>\n",
              "      <td>32.985763</td>\n",
              "      <td>150000000.0</td>\n",
              "      <td>1.513529e+09</td>\n",
              "      <td>Jurassic World</td>\n",
              "      <td>Chris Pratt|Bryce Dallas Howard|Irrfan Khan|Vi...</td>\n",
              "      <td>Colin Trevorrow</td>\n",
              "      <td>124.0</td>\n",
              "      <td>Action|Adventure|Science Fiction|Thriller</td>\n",
              "      <td>Universal Studios|Amblin Entertainment|Legenda...</td>\n",
              "      <td>2015-06-09</td>\n",
              "      <td>5562</td>\n",
              "      <td>6.5</td>\n",
              "      <td>2015</td>\n",
              "      <td>1.363529e+09</td>\n",
              "    </tr>\n",
              "    <tr>\n",
              "      <th>1</th>\n",
              "      <td>28.419936</td>\n",
              "      <td>150000000.0</td>\n",
              "      <td>3.784364e+08</td>\n",
              "      <td>Mad Max: Fury Road</td>\n",
              "      <td>Tom Hardy|Charlize Theron|Hugh Keays-Byrne|Nic...</td>\n",
              "      <td>George Miller</td>\n",
              "      <td>120.0</td>\n",
              "      <td>Action|Adventure|Science Fiction|Thriller</td>\n",
              "      <td>Village Roadshow Pictures|Kennedy Miller Produ...</td>\n",
              "      <td>2015-05-13</td>\n",
              "      <td>6185</td>\n",
              "      <td>7.1</td>\n",
              "      <td>2015</td>\n",
              "      <td>2.284364e+08</td>\n",
              "    </tr>\n",
              "  </tbody>\n",
              "</table>\n",
              "</div>"
            ],
            "text/plain": [
              "   popularity       budget       revenue      original_title  \\\n",
              "0   32.985763  150000000.0  1.513529e+09      Jurassic World   \n",
              "1   28.419936  150000000.0  3.784364e+08  Mad Max: Fury Road   \n",
              "\n",
              "                                                cast         director  \\\n",
              "0  Chris Pratt|Bryce Dallas Howard|Irrfan Khan|Vi...  Colin Trevorrow   \n",
              "1  Tom Hardy|Charlize Theron|Hugh Keays-Byrne|Nic...    George Miller   \n",
              "\n",
              "   runtime                                     genres  \\\n",
              "0    124.0  Action|Adventure|Science Fiction|Thriller   \n",
              "1    120.0  Action|Adventure|Science Fiction|Thriller   \n",
              "\n",
              "                                production_companies release_date  vote_count  \\\n",
              "0  Universal Studios|Amblin Entertainment|Legenda...   2015-06-09        5562   \n",
              "1  Village Roadshow Pictures|Kennedy Miller Produ...   2015-05-13        6185   \n",
              "\n",
              "   vote_average  release_year     prof_loss  \n",
              "0           6.5          2015  1.363529e+09  \n",
              "1           7.1          2015  2.284364e+08  "
            ]
          },
          "metadata": {
            "tags": []
          },
          "execution_count": 240
        }
      ]
    },
    {
      "cell_type": "markdown",
      "metadata": {
        "id": "kVf1zHPtjBbP"
      },
      "source": [
        "Save a copy of the data set, that has now been cleand"
      ]
    },
    {
      "cell_type": "code",
      "metadata": {
        "id": "Fv9jk-YfjBbP"
      },
      "source": [
        "#save dataset to new file.\n",
        "df.to_csv('tmdb_clean.csv', index=False)"
      ],
      "execution_count": null,
      "outputs": []
    },
    {
      "cell_type": "markdown",
      "metadata": {
        "id": "63yXRu21jBbP"
      },
      "source": [
        "<a id='eda'></a>\n",
        "## Exploratory Data Analysis"
      ]
    },
    {
      "cell_type": "markdown",
      "metadata": {
        "id": "n9epVjXqjBbP"
      },
      "source": [
        "I will load the clean CSV for the eda, this is a fresh starting for the analysis, there could be findings during the exploration\n",
        "that we still need to clean up."
      ]
    },
    {
      "cell_type": "code",
      "metadata": {
        "id": "_F2UW5uWjBbP"
      },
      "source": [
        "# load the clean csv\n",
        "df = pd.read_csv('tmdb_clean.csv')"
      ],
      "execution_count": null,
      "outputs": []
    },
    {
      "cell_type": "markdown",
      "metadata": {
        "id": "sqDQOhQAjBbP"
      },
      "source": [
        "### Question 1: Number of Movies released by year"
      ]
    },
    {
      "cell_type": "markdown",
      "metadata": {
        "id": "Hp65KERVjBbP"
      },
      "source": [
        "Next i will take a count of year that is present and plot this using a line"
      ]
    },
    {
      "cell_type": "code",
      "metadata": {
        "id": "Oth8EvQWjBbQ"
      },
      "source": [
        "#creat variable for count number years frequeny\n",
        "releases = df['release_year'].value_counts().sort_index()"
      ],
      "execution_count": null,
      "outputs": []
    },
    {
      "cell_type": "code",
      "metadata": {
        "id": "fAWv7_qpjBbQ",
        "outputId": "70f955cd-4ef7-48d6-d46d-f334de1296e3"
      },
      "source": [
        "#create plot for movie release by year\n",
        "plt.figure(figsize=(12,4), dpi=80, edgecolor='k')\n",
        "plt.plot(releases)\n",
        "plt.title('movie release by year')\n",
        "plt.xlabel('year')\n",
        "plt.ylabel('number of releases')\n",
        "plt.show()\n",
        "\n",
        "#print the min and max years of movie releases\n",
        "print ('Year with the highest amount of movie releases is :', df['release_year'].max())\n",
        "print ('Year with the lowest amount of movie releases is :', df['release_year'].min())"
      ],
      "execution_count": null,
      "outputs": [
        {
          "output_type": "display_data",
          "data": {
            "image/png": "[encoded data removed]",
            "text/plain": [
              "<matplotlib.figure.Figure at 0x7fe3566af160>"
            ]
          },
          "metadata": {
            "tags": [],
            "needs_background": "light"
          }
        },
        {
          "output_type": "stream",
          "text": [
            "Year with the highest amount of movie releases is : 2015\n",
            "Year with the lowest amount of movie releases is : 1960\n"
          ],
          "name": "stdout"
        }
      ]
    },
    {
      "cell_type": "markdown",
      "metadata": {
        "id": "xkEdB2V-jBbQ"
      },
      "source": [
        "We can see that the general trend of movies year on year has increased with a peak in 2015."
      ]
    },
    {
      "cell_type": "markdown",
      "metadata": {
        "id": "yHQmyLfKjBbQ"
      },
      "source": [
        "### Question 2: What is the average yearly budget & revenue?"
      ]
    },
    {
      "cell_type": "markdown",
      "metadata": {
        "id": "gGddGtIAjBbQ"
      },
      "source": [
        "next step is to to look at the average revenue, budger for all the years."
      ]
    },
    {
      "cell_type": "code",
      "metadata": {
        "id": "bWflB5YrjBbQ"
      },
      "source": [
        "# group revenue and buget collumns by year and the the mean\n",
        "revenue = df.groupby('release_year')['revenue'].mean()\n",
        "budget = df.groupby('release_year')['budget'].mean()"
      ],
      "execution_count": null,
      "outputs": []
    },
    {
      "cell_type": "code",
      "metadata": {
        "id": "sZY9d2OUjBbQ",
        "outputId": "53a4e711-5e6d-45f2-b831-b3a11a71aaab"
      },
      "source": [
        "#plot the average budget and revenue per year\n",
        "plt.figure(figsize=(12,4), dpi=80, edgecolor='k')\n",
        "plt.plot(budget)\n",
        "plt.title('average budget by year')\n",
        "plt.xlabel('year')\n",
        "plt.ylabel('budget')\n",
        "\n",
        "plt.figure(figsize=(12,4), dpi=80, edgecolor='k')\n",
        "plt.plot(revenue)\n",
        "plt.title('average revenue by year')\n",
        "plt.xlabel('year')\n",
        "plt.ylabel('revenue')\n",
        "\n",
        "plt.show()"
      ],
      "execution_count": null,
      "outputs": [
        {
          "output_type": "display_data",
          "data": {
            "image/png": "[encoded data removed]",
            "text/plain": [
              "<matplotlib.figure.Figure at 0x7fe3566b7f98>"
            ]
          },
          "metadata": {
            "tags": [],
            "needs_background": "light"
          }
        },
        {
          "output_type": "display_data",
          "data": {
            "image/png": "[encoded data removed]",
            "text/plain": [
              "<matplotlib.figure.Figure at 0x7fe3550bd128>"
            ]
          },
          "metadata": {
            "tags": [],
            "needs_background": "light"
          }
        }
      ]
    },
    {
      "cell_type": "markdown",
      "metadata": {
        "id": "k0qqs_rPjBbQ"
      },
      "source": [
        "Like the number of movie release year on year the total but budget and revenue also increased.\n",
        "- revenue increased quite steadily\n",
        "- budget beteween 1990 and 2000 climbed quite steeply."
      ]
    },
    {
      "cell_type": "markdown",
      "metadata": {
        "id": "n0qeYlCXjBbQ"
      },
      "source": [
        "### Question: 3 What is yearly average profits?"
      ]
    },
    {
      "cell_type": "markdown",
      "metadata": {
        "id": "dSddwwPmjBbR"
      },
      "source": [
        "Next lets look at the average yearly profifts of the movies"
      ]
    },
    {
      "cell_type": "code",
      "metadata": {
        "id": "g8iRDUAojBbR"
      },
      "source": [
        "#group the average prof_loss by years\n",
        "profit = df.groupby('release_year')['prof_loss'].mean()"
      ],
      "execution_count": null,
      "outputs": []
    },
    {
      "cell_type": "code",
      "metadata": {
        "id": "PsNx8v0SjBbR",
        "outputId": "180d1457-a2a1-4126-df3f-5694c55d5855"
      },
      "source": [
        "#Plot the average profit by year\n",
        "plt.figure(figsize=(12,4), dpi=80, edgecolor='k')\n",
        "plt.plot(profit)\n",
        "plt.title('average profit by year')\n",
        "plt.xlabel('year')\n",
        "plt.ylabel('profit')\n",
        "plt.show()\n",
        "# find the the min / max average profit\n",
        "profitx = df.groupby('release_year')['prof_loss'].mean().max()\n",
        "profitm = df.groupby('release_year')['prof_loss'].mean().min()\n",
        "#print the min max average profit.\n",
        "print('highest average is :',profitx)\n",
        "print('lowest average is :',profitm)"
      ],
      "execution_count": null,
      "outputs": [
        {
          "output_type": "display_data",
          "data": {
            "image/png": "[encoded data removed]",
            "text/plain": [
              "<matplotlib.figure.Figure at 0x7fe35504b550>"
            ]
          },
          "metadata": {
            "tags": [],
            "needs_background": "light"
          }
        },
        {
          "output_type": "stream",
          "text": [
            "highest average is : 118950907.956\n",
            "lowest average is : 10493737.8\n"
          ],
          "name": "stdout"
        }
      ]
    },
    {
      "cell_type": "markdown",
      "metadata": {
        "id": "y-B2yGNgjBbR"
      },
      "source": [
        "The average movie profit during the years is volatile for rapid changes, but has stayted on an upward trend since around 2008"
      ]
    },
    {
      "cell_type": "markdown",
      "metadata": {
        "id": "rmq_6PWUjBbR"
      },
      "source": [
        "### Question 4: What are the most profitable movies ?"
      ]
    },
    {
      "cell_type": "markdown",
      "metadata": {
        "id": "9saN_KFRjBbR"
      },
      "source": [
        "What movies have mad to most profit to d this we will sort the profit column, and slice the data"
      ]
    },
    {
      "cell_type": "code",
      "metadata": {
        "id": "3kYij9bKjBbR"
      },
      "source": [
        "#sorting from high to low profit\n",
        "df.sort_values(by='prof_loss', ascending = False, inplace = True)"
      ],
      "execution_count": null,
      "outputs": []
    },
    {
      "cell_type": "code",
      "metadata": {
        "id": "eWh-iHGAjBbR"
      },
      "source": [
        "#slice the data set only showing the top 10 profitable movies\n",
        "top = df.iloc[0:10]"
      ],
      "execution_count": null,
      "outputs": []
    },
    {
      "cell_type": "code",
      "metadata": {
        "id": "QaNYDyYrjBbR",
        "outputId": "1c185fac-5e5f-4bdf-ab38-5f6c12ee2c0b"
      },
      "source": [
        "#plot graph for top ten profit.\n",
        "plt.figure(figsize=(10,5), dpi=80, edgecolor='k')\n",
        "plt.barh(top['original_title'], top['prof_loss'], color='y')\n",
        "plt.title('top ten profitable movies',weight='bold', size='large')\n",
        "plt.xlabel('profit')\n",
        "plt.show()"
      ],
      "execution_count": null,
      "outputs": [
        {
          "output_type": "display_data",
          "data": {
            "image/png": "[encoded data removed]",
            "text/plain": [
              "<matplotlib.figure.Figure at 0x7fe3566a9be0>"
            ]
          },
          "metadata": {
            "tags": [],
            "needs_background": "light"
          }
        }
      ]
    },
    {
      "cell_type": "markdown",
      "metadata": {
        "id": "UBozYclwjBbR"
      },
      "source": [
        "We can clearly see that Avatar is the highest profitable movie of all time and, and was released 2009. Also we can\n",
        "se that the most common genres are that of action and or adventure. lets check the average runtime of these top 10 movies, this could be used for future refence for deciding the runtime of a new movie."
      ]
    },
    {
      "cell_type": "code",
      "metadata": {
        "id": "Z7tzYeMijBbS",
        "outputId": "ea10e0ee-b0a2-40f0-8511-e2fcc84258da"
      },
      "source": [
        "#find the mean of the top ten profitable movies\n",
        "top.runtime.mean(0)"
      ],
      "execution_count": null,
      "outputs": [
        {
          "output_type": "execute_result",
          "data": {
            "text/plain": [
              "138.30000000000001"
            ]
          },
          "metadata": {
            "tags": []
          },
          "execution_count": 252
        }
      ]
    },
    {
      "cell_type": "markdown",
      "metadata": {
        "id": "DvyOzlV3jBbS"
      },
      "source": [
        "lets now count if there are more frequent directors that contribute to the proftable movies."
      ]
    },
    {
      "cell_type": "code",
      "metadata": {
        "id": "I52I-1IKjBbS",
        "outputId": "dd615766-5dae-40bc-8383-15c85b4dcbc4"
      },
      "source": [
        "#find the frequency of directors and plot in bar grpah\n",
        "direct = top['director'].value_counts()\n",
        "direct.plot(kind = 'bar')\n",
        "plt.title('Director count in the top 10 profitable movies')\n",
        "plt.xlabel('Frequency')"
      ],
      "execution_count": null,
      "outputs": [
        {
          "output_type": "execute_result",
          "data": {
            "text/plain": [
              "Text(0.5,0,'Frequency')"
            ]
          },
          "metadata": {
            "tags": []
          },
          "execution_count": 253
        },
        {
          "output_type": "display_data",
          "data": {
            "image/png": "[encoded data removed]",
            "text/plain": [
              "<matplotlib.figure.Figure at 0x7fe355be8828>"
            ]
          },
          "metadata": {
            "tags": [],
            "needs_background": "light"
          }
        }
      ]
    },
    {
      "cell_type": "markdown",
      "metadata": {
        "id": "NELgz0YZjBbS"
      },
      "source": [
        "lets now count if there are more frequent genres that contribute to the proftable movies"
      ]
    },
    {
      "cell_type": "code",
      "metadata": {
        "id": "I9NlFicajBbS",
        "outputId": "146a94df-d5b8-4a98-e2f3-44f617d70b94"
      },
      "source": [
        "#convert colum to string \n",
        "genre = top['genres'].str.cat(sep = '|')\n",
        "#store values in panda series, the we can perform a count for genre\n",
        "genre = pd.Series(genre.split('|'))\n",
        "genre_freq = genre.value_counts(ascending = False).plot(kind ='bar', title ='Genre count in the top 10 profitable movies')"
      ],
      "execution_count": null,
      "outputs": [
        {
          "output_type": "display_data",
          "data": {
            "image/png": "[encoded data removed]",
            "text/plain": [
              "<matplotlib.figure.Figure at 0x7fe354fe6518>"
            ]
          },
          "metadata": {
            "tags": [],
            "needs_background": "light"
          }
        }
      ]
    },
    {
      "cell_type": "markdown",
      "metadata": {
        "id": "nIMFKilpjBbS"
      },
      "source": [
        "What we can conlude here is the most profitable move in the dataset is Avatar,\n",
        "- the most profitible genre is Action / Adventure.\n",
        "- directors the contributed to the most profitable is James Cameron.\n",
        "- The average runtime of the top ten movies is 138 minutes."
      ]
    },
    {
      "cell_type": "markdown",
      "metadata": {
        "id": "4WKCyLb1jBbS"
      },
      "source": [
        "### Question 5 : Most Popular movies"
      ]
    },
    {
      "cell_type": "markdown",
      "metadata": {
        "id": "QhhPiJIxjBbT"
      },
      "source": [
        "lets look at the top 10 most movies based on popularity, we will look at popularity and vote_average,  as these seem to have be measured different and would be interesting compare the results."
      ]
    },
    {
      "cell_type": "code",
      "metadata": {
        "id": "kJxlR9jZjBbT",
        "outputId": "69199513-18e4-46f1-fb5e-0727ed103d65"
      },
      "source": [
        "#sort high to low on popularity and slice for only the top 10 rows.\n",
        "df.sort_values(by='popularity', ascending = False, inplace = True)\n",
        "top = df.iloc[0:10]\n",
        "#plot the the top 10 movies by popularity\n",
        "plt.figure(figsize=(10,5), dpi=80, edgecolor='k')\n",
        "plt.barh(top['original_title'], top['popularity'], color='y')\n",
        "plt.title('top ten most popular movies by popularity',weight='bold', size='large')\n",
        "plt.xlabel('popularity')\n",
        "plt.show()"
      ],
      "execution_count": null,
      "outputs": [
        {
          "output_type": "display_data",
          "data": {
            "image/png": "[encoded data removed]",
            "text/plain": [
              "<matplotlib.figure.Figure at 0x7fe355122c18>"
            ]
          },
          "metadata": {
            "tags": [],
            "needs_background": "light"
          }
        }
      ]
    },
    {
      "cell_type": "markdown",
      "metadata": {
        "id": "hA5ALKvgjBbT"
      },
      "source": [
        "lets now coount the genres for a popular movies,"
      ]
    },
    {
      "cell_type": "code",
      "metadata": {
        "id": "VcPgVc8yjBbT",
        "outputId": "808ebe31-f607-4013-f3f8-68d7fe8ec962"
      },
      "source": [
        "#convert colum to string \n",
        "genre = top['genres'].str.cat(sep = '|')\n",
        "#store values in panda series, the we can perform a count for genre\n",
        "genre = pd.Series(genre.split('|'))\n",
        "genre_freq = genre.value_counts(ascending = False).plot(kind ='bar', title ='Genre count in the top 10 popular movies')"
      ],
      "execution_count": null,
      "outputs": [
        {
          "output_type": "display_data",
          "data": {
            "image/png": "[encoded data removed]",
            "text/plain": [
              "<matplotlib.figure.Figure at 0x7fe354f7a278>"
            ]
          },
          "metadata": {
            "tags": [],
            "needs_background": "light"
          }
        }
      ]
    },
    {
      "cell_type": "markdown",
      "metadata": {
        "id": "lM27TQmajBbT"
      },
      "source": [
        "- The most popular movie is Jurasic Park\n",
        "- The most popular genres are Science Fiction and Adventure.\n",
        "\n",
        "Lets now take a look at vote average and see if there is a different result."
      ]
    },
    {
      "cell_type": "code",
      "metadata": {
        "id": "TMrjczKqjBbT",
        "outputId": "affb3079-315a-4f5c-f903-4d058db26810"
      },
      "source": [
        "#sorting by vote average and take the top 10 rows.\n",
        "df.sort_values(by='vote_average', ascending = False, inplace = True)\n",
        "top = df.iloc[0:10]\n",
        "#plot the the top 10 movies by vote average\n",
        "plt.figure(figsize=(10,5), dpi=80, edgecolor='k')\n",
        "plt.barh(top['original_title'], top['vote_average'], color='y')\n",
        "plt.title('top ten most popular movies by vote_average',weight='bold', size='large')\n",
        "plt.xlabel('vote_average')\n",
        "plt.show()"
      ],
      "execution_count": null,
      "outputs": [
        {
          "output_type": "display_data",
          "data": {
            "image/png": "[encoded data removed]",
            "text/plain": [
              "<matplotlib.figure.Figure at 0x7fe355068a90>"
            ]
          },
          "metadata": {
            "tags": [],
            "needs_background": "light"
          }
        }
      ]
    },
    {
      "cell_type": "code",
      "metadata": {
        "id": "98qNcxq_jBbT",
        "outputId": "e3e2dafb-3b92-46dd-eb60-89acc220a05f"
      },
      "source": [
        "#convert colum to string \n",
        "genre = top['genres'].str.cat(sep = '|')\n",
        "#store values in panda series, the we can perform a count for genre\n",
        "genre = pd.Series(genre.split('|'))\n",
        "genre_freq = genre.value_counts(ascending = False).plot(kind ='bar', title ='Genre count in the top 10 movies by vote_average')"
      ],
      "execution_count": null,
      "outputs": [
        {
          "output_type": "display_data",
          "data": {
            "image/png": "[encoded data removed]",
            "text/plain": [
              "<matplotlib.figure.Figure at 0x7fe356592710>"
            ]
          },
          "metadata": {
            "tags": [],
            "needs_background": "light"
          }
        }
      ]
    },
    {
      "cell_type": "markdown",
      "metadata": {
        "id": "wIctid9yjBbT"
      },
      "source": [
        "- Top movies by vote average are The Shawshank Redemption and Stop Making Sense\n",
        "- The top 2 genres by vote average are Drama and Crime\n",
        "    "
      ]
    },
    {
      "cell_type": "markdown",
      "metadata": {
        "id": "3FbFSBasjBbV"
      },
      "source": [
        "### Questions 6:  Budget Vs Profit"
      ]
    },
    {
      "cell_type": "markdown",
      "metadata": {
        "id": "9dK26MUbjBbV"
      },
      "source": [
        "Lets check if more movie budget returns more profit."
      ]
    },
    {
      "cell_type": "code",
      "metadata": {
        "id": "CYBxaDU0jBbV",
        "outputId": "b01b10c4-28e7-451d-adc0-f078d66cb8cd"
      },
      "source": [
        "#plot the budget and prof_loss\n",
        "df.plot.scatter(x='budget' , y='prof_loss',figsize=(9,6), title = 'Budget Vs Profit / Loss ')\n",
        "plt.xlabel('Budget')\n",
        "plt.ylabel('revenue')\n",
        "plt.show()"
      ],
      "execution_count": null,
      "outputs": [
        {
          "output_type": "display_data",
          "data": {
            "image/png": "[encoded data removed]",
            "text/plain": [
              "<matplotlib.figure.Figure at 0x7fe3550e7a90>"
            ]
          },
          "metadata": {
            "tags": [],
            "needs_background": "light"
          }
        }
      ]
    },
    {
      "cell_type": "markdown",
      "metadata": {
        "id": "sAMLjQbYjBbV"
      },
      "source": [
        "We can see clearly that more budget does not always mean more profits."
      ]
    },
    {
      "cell_type": "markdown",
      "metadata": {
        "id": "c36ozOp0jBbW"
      },
      "source": [
        "### Questions 7:  Average Runtimes by year"
      ]
    },
    {
      "cell_type": "markdown",
      "metadata": {
        "id": "N5AZ664gjBbW"
      },
      "source": [
        "Let take a look at the average movie runtimes  year on year."
      ]
    },
    {
      "cell_type": "code",
      "metadata": {
        "id": "OLb_Dxx9jBbW",
        "outputId": "cc390712-09b7-42cd-bd4e-caea27130c8f"
      },
      "source": [
        "#find the average runtime by year\n",
        "runtime = df.groupby('release_year')['runtime'].mean()\n",
        "#Plot the average runtime by year\n",
        "plt.figure(figsize=(12,4), dpi=80, edgecolor='k')\n",
        "plt.plot(runtime)\n",
        "plt.title('average runtime by year')\n",
        "plt.xlabel('year')\n",
        "plt.ylabel('runtime')\n",
        "plt.show()\n",
        "\n",
        "#runtime average\n",
        "runtime_avg = df.runtime.mean()\n",
        "print('Total runtime average for movies are:',runtime_avg)"
      ],
      "execution_count": null,
      "outputs": [
        {
          "output_type": "display_data",
          "data": {
            "image/png": "[encoded data removed]",
            "text/plain": [
              "<matplotlib.figure.Figure at 0x7fe356917898>"
            ]
          },
          "metadata": {
            "tags": [],
            "needs_background": "light"
          }
        },
        {
          "output_type": "stream",
          "text": [
            "Total runtime average for movies are: 109.351116951\n"
          ],
          "name": "stdout"
        }
      ]
    },
    {
      "cell_type": "markdown",
      "metadata": {
        "id": "xjsN35dUjBbW"
      },
      "source": [
        "<a id='conclusions'></a>\n",
        "# Conclusions"
      ]
    },
    {
      "cell_type": "markdown",
      "metadata": {
        "id": "Onq8ezddjBbW"
      },
      "source": [
        "The movie set contains alot of information regarding movies, there was only one duplicated row, but there was a lot of other information missing from the dataset and many zero within the columns and a decision was required, for the above analysis these values entries were removed.\n",
        "\n",
        "New movies should consider the below to be a profitable movie.\n",
        "    - movie genre should be either Action / Adventure.\n",
        "    - should have either Jamers Cameron or Joss Whedon as the director to be most profitable.\n",
        "    - average run time of around 138 minutes.\n",
        "  \n",
        "- To have the most popular movies, the movie should be either or a combination of Science Fiction, Adventure and Action\n",
        "- Looking at the vote average we get a different result, the movire should be either Drama or Crime.\n",
        "\n",
        "There is strong releationship to of the budget and the profit made. We can see there are few outliers where there are some high budget and low profit returns in some cases only a loss."
      ]
    },
    {
      "cell_type": "markdown",
      "metadata": {
        "id": "3_Cp11aujBbW"
      },
      "source": [
        "# Limitations"
      ]
    },
    {
      "cell_type": "markdown",
      "metadata": {
        "id": "H4oDpdFDjBbW"
      },
      "source": [
        "There were many values of zero value in the budget and revenure, we could inpute these using the mean but i beleive this would\n",
        "not reflect correctly and would skew the data of these columns and explorations involving these. Another way that could fill\n",
        "the data would be to check again the source website and use web searches to update the dataset.\n",
        "\n",
        "Also the data set does not only contain movies this also includes tv series and there is no column avaialble to determine this.\n",
        "For example Taken has runtime of 800+ minutes, after checking the imdb site for Taken https://www.imdb.com/title/tt0289830/, we can see thies was a TV Mini-Series, again there is no indication in the in the dataset that determines this.\n",
        "\n",
        "Dataset - Populairty column is made up of many variables and could skew results. \n",
        "- Number of votes for the day\n",
        "- Number of views for the day\n",
        "- Number of users who marked it as a \"favourite\" for the day\n",
        "- Number of users who added it to their \"watchlist\" for the day\n",
        "- Release date\n",
        "- Number of total votes\n",
        "- Previous days score\n",
        "\n",
        "https://developers.themoviedb.org/3/getting-started/popularity\n"
      ]
    },
    {
      "cell_type": "markdown",
      "metadata": {
        "id": "dfgofb3bjBbW"
      },
      "source": [
        "Other Resources:\n",
        "    \n",
        "    https://pythonspot.com/matplotlib-bar-chart/\n",
        "    https://stackoverflow.com/questions/45003806/python-pandas-use-slice-with-describe-versions-greater-than-0-20\n",
        "    https://pandas.pydata.org/pandas-docs/stable/reference/api/pandas.Series.html\n",
        "    https://pandas.pydata.org/pandas-docs/stable/reference/api/pandas.Series.str.split.html\n",
        "    https://stackoverflow.com/questions/29229600/counting-number-of-zeros-per-row-by-pandas-dataframe\n",
        "    https://stackoverflow.com/questions/12504976/get-last-column-after-str-split-operation-on-column-in-pandas-dataframe   "
      ]
    }
  ]
}